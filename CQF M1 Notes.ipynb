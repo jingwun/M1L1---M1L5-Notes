{
 "cells": [
  {
   "cell_type": "markdown",
   "id": "broad-knitting",
   "metadata": {},
   "source": [
    "<br><font color = darkblue size=6><strong>CQF Master Notes</strong></font> "
   ]
  },
  {
   "cell_type": "markdown",
   "id": "going-windsor",
   "metadata": {},
   "source": [
    "# The Random Behavior of Assets"
   ]
  },
  {
   "cell_type": "markdown",
   "id": "baking-invention",
   "metadata": {
    "heading_collapsed": true
   },
   "source": [
    "## The three main types of analysis used in finance"
   ]
  },
  {
   "cell_type": "markdown",
   "id": "growing-weekly",
   "metadata": {
    "hidden": true
   },
   "source": [
    "1. Fundamental analysis: Not good, as the market can stay irrational for longer than you can stay solvent. \n",
    "\n",
    "2. Technical analysis: Not good\n",
    "\n",
    "3. Quantitative analysis:\n",
    "    * The unpredictability of asset prices is the most important feature of financial modeling\n",
    "    * Because there is so much randomness, the most successful mathematical models of financial assets have a probabilistic foundation.\n",
    "    * the absolute value of the investment is of less interest, we are more interested in **Return**, which means the ‘relative’ growth in the value of an asset, together with accumulated cashflows (such as dividends), over some period, based on the value that the asset started with.\n",
    "    * In finance theory this return is usually treated as being **random**.\n",
    "    * The random return is often assumed to be Normally distributed. This is not perfect but is a good starting point\n",
    "    * The asset price can then be modeled as a lognormal random walk"
   ]
  },
  {
   "cell_type": "markdown",
   "id": "monetary-reminder",
   "metadata": {},
   "source": [
    "## Modeling Returns"
   ]
  },
  {
   "cell_type": "markdown",
   "id": "entertaining-frequency",
   "metadata": {},
   "source": [
    "### Discrete Time"
   ]
  },
  {
   "cell_type": "markdown",
   "id": "blessed-africa",
   "metadata": {},
   "source": [
    "If the asset value on the ith day is denoted by $S_i$, then the return from day i to day i + 1 is given by:\n",
    "\n",
    "$R_i = \\frac{S_{i+1}-S_i}{S_i}$\n",
    "\n",
    "We will model the returns each day as random, and independent from one day to the next.\n",
    "\n",
    "* Mean = $\\overline{R} = \\frac{1}{M}\\sum_{i=1}^{M}R_i$\n",
    "\n",
    "* Sample standard deviation = $\\sqrt{\\frac{1}{M-1}\\sum_{i=1}^{M}(R_i-\\overline{R})^2}$\n",
    "* Where M is the number of returns in the sample\n",
    "\n",
    "We are then curious about the shape of the distribution (i.e. PDF):\n",
    "* Step 1: standardize the distribution to give it a mean of zero and a standard deviation of one.\n",
    "* Step 2: compare it to the standardized normal distribution: \n",
    "    $\\frac{1}{\\sqrt{2\\pi}}e^{-\\frac{1}{2}\\phi^2}$, where $\\phi$ is a random variable drawn from a Gaussian distribution.\n",
    "    \n",
    "If we assume that the empirical returns can be modeled by a Normal distribution then we can model R:\n",
    "\n",
    "$R_i = \\frac{S_{i+1}-S_i}{S_i}$ = mean + std x $\\phi$, where mean and std are known, constant, and non-zero.\n",
    "\n",
    "    Note: Commodities may show seasonal behaviour, so the mean and standard deviation may vary with time.\n",
    "    \n",
    "    \n",
    "Assume $\\delta t$ is the time step where $\\delta t =\\frac{t}{M}$ and $\\delta t \\rightarrow 0$:\n",
    "\n",
    "* mean = $\\mu\\delta t = \\frac{S_{i+1}-S_i}{S_i}$\n",
    "   \n",
    "   so, $S_{i+1} = S_i(1+\\mu\\delta t)$\n",
    "   \n",
    "   and $S_M = S_0(1+\\mu\\delta t)^M = S_0e^{Mlog(1+\\mu\\delta t)} \\approx S_0e^{M\\mu\\delta t} = S_0e^{\\mu M\\delta t} = S_0e^{\\mu t}$\n",
    "   \n",
    "   Therefore, $S(t) = S_0e^{\\mu t}$\n",
    "   \n",
    "   $\\mu$ is called the growth rate or drift rate.\n",
    "   \n",
    "   \n",
    "* standard deviation = $\\sigma\\delta t^{1/2}$, where $\\sigma$ is a parameter measuring the amount of randomness, or volatility, or annualized standard deviation of returns.\n",
    "\n",
    "    note: $Std[X+Y] \\neq Std[X]+Std[Y]$, but $Var[X+Y] = Var[X] + Var[Y]$ when X and Y are independent\n",
    "    \n",
    "Therefore, \n",
    "$R_i = \\frac{S_{i+1}-S_i}{S_i}$ = mean + std x $\\phi = \\mu\\delta t+\\sigma\\phi\\delta t^{1/2}$\n",
    "\n",
    "$\\rightarrow S_{i+1}-S_i = \\mu S_i\\delta t+\\sigma S_i\\phi\\delta t^{1/2}$\n",
    "\n",
    "$\\rightarrow S_{i+1}= (1+\\mu\\delta t)S_i+\\sigma S_i\\phi\\delta t^{1/2}$, equations in this form are the basis for **Monte Carlo simulations**. This is a discrete-time model for a **random walk** of the asset.\n",
    "\n",
    "\n",
    "Because of their different scalings with time, the growth and volatility have different effects on the asset path.\n",
    "* The growth is not apparent over short timescales. The volatility dominates in the short term.\n",
    "* Over long timescales, for instance decades, the growth becomes important.\n"
   ]
  },
  {
   "cell_type": "markdown",
   "id": "convinced-comparison",
   "metadata": {},
   "source": [
    "### Continuous Time"
   ]
  },
  {
   "cell_type": "markdown",
   "id": "secondary-venezuela",
   "metadata": {},
   "source": [
    "We want to get to a continuous time model because maths is easier in continuous time."
   ]
  },
  {
   "cell_type": "markdown",
   "id": "exclusive-clone",
   "metadata": {},
   "source": [
    "#### The Wiener process"
   ]
  },
  {
   "cell_type": "markdown",
   "id": "little-pocket",
   "metadata": {},
   "source": [
    "d· means ‘the change in’ some quantity. So dS is the ‘change in the asset price.’ \n",
    "\n",
    "But this change will be in continuous time. In effect, we will go to the limit δt = 0.\n",
    "\n",
    "According to Wiener process: $\\phi\\delta t^{1/2} = dX$\n",
    "\n",
    "Here dX is a random variable, drawn from a Normal distribution with mean zero and variance dt:\n",
    "* $E[dX] = 0$ and $E[dX^2] = dt$.\n"
   ]
  },
  {
   "cell_type": "markdown",
   "id": "demographic-district",
   "metadata": {},
   "source": [
    "#### Stochastic Differential Equation (SDE)"
   ]
  },
  {
   "cell_type": "markdown",
   "id": "abstract-adrian",
   "metadata": {},
   "source": [
    "Using the Wiener process notation, the asset price model can be written as $S_{i+1}-S_i = \\mu S_i\\delta t+\\sigma S_i\\phi\\delta t^{1/2} = \\mu S_idt+\\sigma S_idX$\n",
    "\n",
    "It is a continuous-time model of an asset price. It is the most widely accepted model for equities, currencies, commodities and indices, and the foundation of much finance theory.\n"
   ]
  },
  {
   "cell_type": "markdown",
   "id": "magnetic-dancing",
   "metadata": {},
   "source": [
    "# Binomial Model (Need to review the additional notes)"
   ]
  },
  {
   "cell_type": "markdown",
   "id": "featured-flower",
   "metadata": {},
   "source": [
    "The most ‘accessible’ approach to option pricing is the binomial model.It is a very useful tool for conveying the ideas of delta hedging and no arbitrage, in addition to the subtle concept of\n",
    "risk neutrality and option pricing."
   ]
  },
  {
   "cell_type": "markdown",
   "id": "endangered-collectible",
   "metadata": {
    "heading_collapsed": true
   },
   "source": [
    "## Option Pricing Theory"
   ]
  },
  {
   "cell_type": "markdown",
   "id": "mathematical-offset",
   "metadata": {
    "hidden": true
   },
   "source": [
    "Key assumptions\n",
    "* Short selling allowed\n",
    "* No arbitrage opportunities\n",
    "\n",
    "Relaxable assumptions:\n",
    "\n",
    "* Frictionless markets - no transaction costs, limits to trading or taxes\n",
    "* Perfect liquidity\n",
    "* Known volatility and interest rates\n",
    "* No dividends on the underlying"
   ]
  },
  {
   "cell_type": "markdown",
   "id": "durable-field",
   "metadata": {
    "heading_collapsed": true
   },
   "source": [
    "## Binomial Model"
   ]
  },
  {
   "cell_type": "markdown",
   "id": "present-program",
   "metadata": {
    "hidden": true
   },
   "source": [
    "Key assumptions:\n",
    "\n",
    "* an asset value changes only at discrete time intervals\n",
    "* fractional trading is allowed\n",
    "* an assetís worth can change to one of only two possible new values at each time step.\n",
    "\n",
    "\n",
    "The stock volatility is of key important in the pricing of options, but the drift is not.\n",
    "\n",
    "Assume $\\Delta$ is the number of shares, then:\n",
    "\n",
    "$\\Delta = \\frac{V^+-V^-}{S^+-S^-} = \\frac{\\mbox{Range of option payoffs}}{\\mbox{Range of stock prices}}$\n",
    "\n",
    "We can think of ∆ as the sensitivity of the option to changes in the stock\n",
    "\n",
    "Delta hedging means choosing ∆ such that the portfolio value does not depend on the direction of the stock.\n",
    "\n",
    "The above is in discrete time, discrete stock. When we go to continuous time continuous stock $\\Delta$ will become $\\frac{\\partial V}{\\partial S}$\n",
    "\n",
    "If interest rate $r$ is not zero, then we need a discount factor.\n",
    "\n",
    "Consider a portfolio $\\Pi$, long an option and short $\\Delta$ assets. $V^+$ and $V^-$ denotes the\n",
    "option value corresponding to asset price $S^+$ and $S^-$. \n",
    "\n",
    "No-arbitrate suggests that:\n",
    "\n",
    "$\\Pi e^{rT} = \\Pi^- = \\Pi^+$\n",
    "$=V^- -\\Delta S$\n",
    "$= V^- - (\\frac{V^+-V^-}{S^+-S^-})S^-$\n",
    "$=\\frac{V^-(S^+ - S^-)-S^-(V^+-V^-)}{S^+ - S^-}$\n",
    "$=\\frac{V^-S^+ - S^-V^+}{S^+ - S^-}$\n",
    "\n",
    "\n",
    "$(V-\\Delta S)e^{rT}=\\frac{V^-S^+ - S^-V^+}{S^+ - S^-}$\n",
    "\n",
    "$Ve^{rT}=\\frac{V^-S^+ - S^-V^+}{S^+ - S^-} +(\\frac{V^+-V^-}{S^+-S^-})Se^{rT} $\n",
    "\n",
    "$=\\frac{V^-S^+ - S^-V^+}{S^+ - S^-} +(\\frac{V^+-V^-}{S^+-S^-})Se^{rT} $\n",
    "\n",
    "$=(\\frac{e^{rT}S-S^-}{S^+ - S^-})V^+ +(\\frac{S^+-e^{rT}S}{S^+-S^-})V^- $\n",
    "\n",
    "$ = qV^+ + (1-q)V^-$\n",
    "\n",
    "$V = e^{-rT}(qV^+ + (1-q)V^-)$\n",
    "\n",
    "Where we define $q = \\frac{e^{rT}S-S^-}{S^+ - S^-}$ with $0<q<1$\n",
    "\n",
    "If compounding is discrete,\n",
    "\n",
    "$ q = \\frac{(1+rT)S-S^-}{S^+ - S^-}$\n",
    "\n",
    "and $V = (1-rT)(qV^+ + (1-q)V^-)$\n",
    "\n",
    "q is a risk-neutral probability which come about from insistence on no arbitrage. It has nothing to do with the real probabilities of $S^+$ and $S^-$ occurring. Pricing a call using the real probability, p, will probably make you a profit, but a loss is also possible. Pricing an option using the risk neutral probability, q, you will certainly make neither a profit nor a loss."
   ]
  },
  {
   "cell_type": "markdown",
   "id": "rolled-crack",
   "metadata": {
    "hidden": true
   },
   "source": [
    "### Application"
   ]
  },
  {
   "cell_type": "markdown",
   "id": "dress-coaching",
   "metadata": {
    "hidden": true
   },
   "source": [
    "Calculate Option value V:\n",
    "    \n",
    "* Step 1: Calculate $\\Delta$ using $\\Delta = \\frac{V^+-V^-}{S^+-S^-}$\n",
    "* Step 2: Calculate $V$ using $V-\\Delta S = e^{-rT}(V^+ - \\Delta S^+)$ "
   ]
  },
  {
   "cell_type": "markdown",
   "id": "bulgarian-melissa",
   "metadata": {
    "heading_collapsed": true
   },
   "source": [
    "## Introducing Symbols"
   ]
  },
  {
   "cell_type": "markdown",
   "id": "stuffed-diary",
   "metadata": {
    "hidden": true
   },
   "source": [
    "In the binomial model we assume that the asset, which initially has the value S, can, during a time step δt, either:\n",
    "* rise to a value $u × S$ or\n",
    "* fall to a value $v × S$,\n",
    "\n",
    "with $0 < v < 1 < u$.\n",
    "\n",
    "The 'real-world' probability of a rise is p and so the probability of a fall is 1 − p.\n",
    "\n",
    "How should we choose u, v and p?\n",
    "Let’s choose them so that they have the same mean and standard deviation as our earlier lognormal random walk!\n",
    "\n",
    "\n",
    "* Equation 1 (mean of the change in asset price): $\\mu\\delta t = p\\mu S +(1-p)vS-S$\n",
    "\n",
    "* Equation 2 (variance of the change in asset price): $\\sigma^2S^2\\delta t = \\frac{\\sum(x_i - \\bar x)^2}{n-1} = (p(u-1)S-mean)^2+((1-p)(v-1)S-mean)^2$\n",
    "$= (p(u-1)S-(p\\mu S +(1-p)vS-S))^2+((1-p)(v-1)S-(p\\mu S +(1-p)vS-S))^2$\n",
    "$=S^2(p(u-1-(pu+(1-p)v-1))^2+(1-p)((v-1-(pu+(1-p)v-1))^2)$\n",
    "\n",
    "Equations 1 and 2 will yield infinite number of solutions because we have two equations for 3 variables. Paul Wilmott chose:\n",
    "\n",
    "* $u = 1 + \\sigma\\sqrt{\\delta t}$\n",
    "\n",
    "* $v = 1 - \\sigma\\sqrt{\\delta t}$\n",
    "\n",
    "* $p = \\frac{1}{2} +\\frac{\\mu\\sqrt{\\delta t}}{2\\sigma}$\n",
    "\n",
    "In this case:\n",
    "\n",
    "$\\Delta = \\frac{V^+-V^-}{(u-v)S}$\n",
    "\n",
    "$V = \\frac{1}{1+r\\delta t}(p'V^+ + (1-p')V^-)$, where $p' = \\frac{1}{2} + \\frac{r\\sqrt{\\delta t}}{2\\sigma}$\n",
    "\n",
    "The option value at any time is the present value of the risk-neutral expected value at any later time.\n"
   ]
  },
  {
   "cell_type": "markdown",
   "id": "willing-jaguar",
   "metadata": {
    "heading_collapsed": true
   },
   "source": [
    "## Black-Scholes equation"
   ]
  },
  {
   "cell_type": "markdown",
   "id": "native-investment",
   "metadata": {
    "hidden": true
   },
   "source": [
    "If $\\delta t \\rightarrow 0$, we’ll end up with what’s known as a partial differential equation, the famous Black–Scholes equation, which is continuous time.\n",
    "\n",
    "Now let’s represent the option prices, not by a collection of numbers associated with places in a tree but by a function of stock price S and time t. Call that function V (S, t). Think of V (S, t) being the option value at the root of a single\n",
    "branch.\n",
    "\n",
    "Then,\n",
    "\n",
    "* $V^+ = V(uS,t+\\delta t) = V((1+\\sigma\\sqrt{\\delta t})S, t+\\delta t)$\n",
    "$\\approx V(S,t) + \\frac{\\partial V}{\\partial t}\\delta t + \\frac{\\partial V}{\\partial S}\\sigma\\sqrt{\\delta t}S+\\frac{1}{2}\\frac{\\partial^2V}{\\partial S^2}\\sigma^2\\delta tS^2 + o(\\delta t)$\n",
    "\n",
    "* $V^- = V(vS,t+\\delta t) = V((1-\\sigma\\sqrt{\\delta t})S, t+\\delta t)$\n",
    "$\\approx V(S,t) + \\frac{\\partial V}{\\partial t}\\delta t - \\frac{\\partial V}{\\partial S}\\sigma\\sqrt{\\delta t}S+\\frac{1}{2}\\frac{\\partial^2V}{\\partial S^2}\\sigma^2\\delta tS^2 + o(\\delta t)$\n",
    "\n",
    "\n",
    "\n",
    "* $\\Delta = \\frac{V^+-V^-}{(u-v)S}$\n",
    "$= \\frac{V((1+\\sigma\\sqrt{\\delta t})S, t+\\delta t) - V((1-\\sigma\\sqrt{\\delta t})S, t+\\delta t)}{2\\sigma\\sqrt{\\delta t}S}$\n",
    "$\\approx\\frac{2\\frac{\\partial V}{\\partial S}\\sigma\\sqrt{\\delta t}S}{2\\sigma\\sqrt{\\delta t}S}$\n",
    "$=\\frac{\\partial V}{\\partial S}$, as $\\delta t \\rightarrow 0$\n",
    "* pricing equation: $V-\\Delta S = \\frac{1}{1+r\\delta t}(V^+ - \\Delta S^+)$ \n",
    "\n",
    "$\\rightarrow V-\\frac{\\partial V}{\\partial S}S = \\frac{1}{1+r\\delta t}((V(S,t) + \\frac{\\partial V}{\\partial t}\\delta t + \\frac{\\partial V}{\\partial S}\\sigma\\sqrt{\\delta t}S+\\frac{1}{2}\\frac{\\partial^2V}{\\partial S^2}\\sigma^2\\delta tS^2) - \\frac{\\partial V}{\\partial S}S(1+\\sigma\\sqrt{\\delta t}))$\n"
   ]
  },
  {
   "cell_type": "markdown",
   "id": "associate-circular",
   "metadata": {
    "hidden": true
   },
   "source": [
    "$ = \\frac{1}{1+r\\delta t}(V + \\frac{\\partial V}{\\partial t}\\delta t + \\frac{\\partial V}{\\partial S}S+\\frac{1}{2}\\frac{\\partial^2V}{\\partial S^2}\\sigma^2\\delta tS^2)$"
   ]
  },
  {
   "cell_type": "markdown",
   "id": "nominated-extra",
   "metadata": {
    "hidden": true
   },
   "source": [
    "$\\rightarrow V+Vr\\delta t -\\frac{\\partial V}{\\partial S}S - \\frac{\\partial V}{\\partial S}Sr\\delta t = V + \\frac{\\partial V}{\\partial t}\\delta t + \\frac{\\partial V}{\\partial S}S+\\frac{1}{2}\\frac{\\partial^2V}{\\partial S^2}\\sigma^2\\delta tS^2$\n",
    "\n",
    "$\\frac{\\partial V}{\\partial t}+\\frac{1}{2}\\sigma^2S^2\\frac{\\partial^2V}{\\partial S^2} + rS\\frac{\\partial V}{\\partial S} -rV=0$, this is the Black-Scholes equation.\n",
    "\n",
    "That is, The continuous-time limit of the binomial model is the Black–Scholes equation"
   ]
  },
  {
   "cell_type": "markdown",
   "id": "valued-belly",
   "metadata": {},
   "source": [
    "# Transition Probability Density Function for Random Walk"
   ]
  },
  {
   "cell_type": "markdown",
   "id": "terminal-mortgage",
   "metadata": {},
   "source": [
    "Modern finance theory, especially derivatives theory, is based on the random movement of financial quantities.\n",
    "We are now going to explore the simple idea of the random walk and see its relationship to differential equations.\n",
    "This is achieved via the concept of a transition probability density function.\n",
    "\n",
    "* Random walks have associated differential equations for their probability density functions, and are naturally related to the normal distribution: $p(y,t;y',t') = \\frac{1}{2c\\sqrt{\\pi (t'-t)}}exp(-\\frac{(y'-y)^2}{4c^2(t'-t)})$\n"
   ]
  },
  {
   "cell_type": "markdown",
   "id": "current-sphere",
   "metadata": {
    "heading_collapsed": true
   },
   "source": [
    "## The trinomial random walk"
   ]
  },
  {
   "cell_type": "markdown",
   "id": "mounted-relative",
   "metadata": {
    "hidden": true
   },
   "source": [
    "y is the value of our random variable. The variable y can either rise, fall or take the same value after a time step δt. These movements have certain probabilities associated with them. α is a probability for up and down. δy is the size of the move in y.\n",
    "\n",
    "Suppose the top branch is chosen after one time step. After the second there are three places that y could be.\n",
    "\n",
    "After lots of time steps we end up with a random walk.\n",
    "\n",
    "Often we are interested in the probabilistic properties of the random walk rather than the outcome of a single realization."
   ]
  },
  {
   "cell_type": "markdown",
   "id": "early-ballet",
   "metadata": {},
   "source": [
    "## The transition probability density function"
   ]
  },
  {
   "cell_type": "markdown",
   "id": "agricultural-valuation",
   "metadata": {},
   "source": [
    "To analyze the probabilistic properties of the random walk, we introduce the transition probability density function p(y, t; y'\n",
    ", t') defined by:\n",
    "\n",
    "$Prob(a < y' < \\mbox{b at time t'}| \\mbox{y at time t}) = \\int_a^bp(y,t; y',t')dy'$\n",
    "\n",
    "In words this is “the probability that the random variable y' lies between a and b at time t' in the future, given that it started out with value y at time t.”\n",
    "\n",
    "The transition probability density function can be used to answer the question, “What is the probability of the variable y' being in a specified range at time t' in the future given that it started out with value y at time t?”\n",
    "\n",
    "The transition probability density function p(y, t; y', t') satisfies two equations:\n",
    "\n",
    "    (1) Forward Kolmogorov Equation:  involving derivatives with respect to the future state and time (y' and t'). that is, (y', t') varies and (y, t) fixed\n",
    "\n",
    "    (2) Backward Kolmogorov Equation: involving derivatives with respect to the current state and time (y and t). That is, (y, t) varies, and (y', t') fixed"
   ]
  },
  {
   "cell_type": "markdown",
   "id": "iraqi-table",
   "metadata": {},
   "source": [
    "### Forward Kolmogorov Equation: $\\frac{\\partial p}{\\partial t'} = c^2\\frac{\\partial^2p}{\\partial y'^2}$\n"
   ]
  },
  {
   "cell_type": "markdown",
   "id": "alike-danger",
   "metadata": {},
   "source": [
    "The variable y takes the value y' at time t', but how did it get there?\n",
    "\n",
    "In our trinomial walk we can only get to the point y' from the three values y' + δy, y' and y' − δy.\n",
    "\n",
    "$p(y, t; y', t') = α p(y, t; y' + δy, t' − δt) +(1 − 2α)p(y, t; y', t' − δt) + α p(y, t; y' − δy, t' − δt)$\n",
    "\n",
    "Now do T.S.E on each of the terms, and assume we use shorthand notation p(y,t;y',t')=p:\n",
    "\n",
    "$p = $\n",
    "$\\alpha (p - \\frac{\\partial p}{\\partial t'}\\delta t + \\frac{\\partial p}{\\partial y'}\\delta y + \\frac{1}{2}\\frac{\\partial^2p}{\\partial y'^2}\\delta y^2)$ \n",
    "$+ (1-2\\alpha)(p-\\frac{\\partial p}{\\partial t'}\\delta t)$\n",
    "$+ \\alpha (p - \\frac{\\partial p}{\\partial t'}\\delta t - \\frac{\\partial p}{\\partial y'}\\delta y + \\frac{1}{2}\\frac{\\partial^2p}{\\partial y'^2}\\delta y^2)$"
   ]
  },
  {
   "cell_type": "markdown",
   "id": "visible-xerox",
   "metadata": {},
   "source": [
    "$\\delta t\\frac{\\partial p}{\\partial t'}= \\alpha\\delta y^2\\frac{\\partial^2p}{\\partial y'^2}$"
   ]
  },
  {
   "cell_type": "markdown",
   "id": "given-small",
   "metadata": {},
   "source": [
    "Let's define $\\frac{\\alpha\\delta y^2}{\\delta t} = c^2$, for some finite, non-zero c.\n",
    "\n",
    "The final equation is now:\n",
    "\n",
    "$\\frac{\\partial p}{\\partial t'} = c^2\\frac{\\partial^2p}{\\partial y'^2}$\n",
    "\n",
    "This is the Fokker–Planck or forward Kolmogorov equation. It is a forward parabolic partial differential equation, requiring\n",
    "initial conditions at time t and to be solved for t' > t\n",
    "\n",
    "This equation is to be used if there is some special state now and you want to know what could happen later. For example, you\n",
    "know the current value of y and want to know the distribution of values at some later date.\n",
    "\n",
    "Observations:\n",
    "* This is a partial differential equation for p as a function of two independent variables y' and t'\n",
    "* It is an example of a diffusion equation / heat equation\n",
    "* y and t are rather like parameters in this problem, think of them as starting quantities for the random walk. i.e. fixed.\n",
    "* This is a diffusion equation. You need that special relationship between α, δt and δy to get this equation. $\\delta y \\sim O(\\sqrt{\\delta t})$\n",
    "* This is also an example of Brownian motion.\n",
    "* When we get on to financial applications the quantity c will be related to volatility: $\\frac{\\partial p}{\\partial t'} = c^2\\frac{\\partial^2p}{\\partial y'^2} \\rightarrow \\frac{\\partial w}{\\partial t}=\\frac{1}{2}\\sigma^2\\frac{\\partial^2w}{\\partial x^2}$\n",
    "\n"
   ]
  },
  {
   "cell_type": "markdown",
   "id": "legitimate-curve",
   "metadata": {},
   "source": [
    "### Backward Kolmogorov Equation: $\\frac{\\partial p}{\\partial t} = - c^2\\frac{\\partial^2p}{\\partial y^2}$\n"
   ]
  },
  {
   "cell_type": "markdown",
   "id": "final-infection",
   "metadata": {},
   "source": [
    "Now we come to find the backward equation. This will be useful if we want to calculate probabilities of reaching a specified final state from various initial states. It will be a backward parabolic partial differential equation requiring conditions imposed in the future, and solved backwards in time.\n",
    "\n",
    "Whereas the forward equation had independent variable t' and y' the backward equation has variables t and y.\n",
    "\n",
    "$p(y, t; y', t') = α p(y + δy, t + δt; y', t') +(1 − 2α)p(y, t + δt; y', t') + α p(y − δy, t + δt; y', t')$"
   ]
  },
  {
   "cell_type": "markdown",
   "id": "shared-brand",
   "metadata": {},
   "source": [
    "$p = \\alpha (p + \\frac{\\partial p}{\\partial t}\\delta t + \\frac{\\partial p}{\\partial y}\\delta y + \\frac{1}{2}\\frac{\\partial^2p}{\\partial y^2}\\delta y^2)$ \n",
    "$+ (1-2\\alpha)(p+\\frac{\\partial p}{\\partial t}\\delta t)$\n",
    "$+ \\alpha (p + \\frac{\\partial p}{\\partial t}\\delta t - \\frac{\\partial p}{\\partial y}\\delta y + \\frac{1}{2}\\frac{\\partial^2p}{\\partial y^2}\\delta y^2)$\n",
    "\n",
    "$\\rightarrow \\frac{\\partial p}{\\partial t}\\delta t = -\\alpha\\frac{\\partial^2p}{\\partial y^2}\\delta y^2$\n",
    "\n",
    "$\\rightarrow \\frac{\\partial p}{\\partial t} = - c^2\\frac{\\partial^2p}{\\partial y^2}$\n",
    "\n",
    "Warning: More general random walks lead to significantly more complicated forward and backward equations, and their relationship is no longer as simple as a change of sign.\n"
   ]
  },
  {
   "cell_type": "markdown",
   "id": "prescribed-format",
   "metadata": {},
   "source": [
    "## Similarity Solutions"
   ]
  },
  {
   "cell_type": "markdown",
   "id": "purple-recognition",
   "metadata": {},
   "source": [
    "Generally partial differential equations are hard to solve explicitly, but sometimes they can be simplified to ordinary differential equations.\n",
    "\n",
    "* Step 1: Create a new variable combining y' and t' in a special way\n",
    "* Step 2: Reduce the dimension of the problem\n",
    "\n",
    "The equation to be solved is:\n",
    "\n",
    "$\\frac{\\partial p}{\\partial t'} = c^2\\frac{\\partial^2p}{\\partial y'^2}$\n",
    "\n",
    "This equation has an infinite number of solutions. It has different solutions for different initial conditions and different boundary conditions.\n",
    "\n",
    "The initial condition tells you how the solution starts off. We must specify p as a function of y' at some point in time, t'.\n",
    "\n",
    "Boundary conditions tell you how the function behaves on specified y' boundaries. Diffusion equations typically need two boundary conditions.\n",
    "\n",
    "We are now going to find a very simple solution. It is very simple and very special because unlike most solutions of the diffusion it does not depend on two independent variable y' and t' but on a combination of them.\n",
    "\n",
    "Let us seek a solution of the form:\n",
    "\n",
    "$p = t^{'a}f(\\frac{y'}{t^{'b}}) = t^{'a}f(\\xi)$ \n",
    "\n",
    "Here a and b are constants. Note that f is a function of only the one variable\n",
    "\n",
    "$\\xi = \\frac{y'}{t^{'b}} = y't^{'-b}$\n",
    "\n",
    "$\\frac{\\partial\\xi}{\\partial y'}= t^{'-b}$\n",
    "\n",
    "$\\frac{\\partial\\xi}{\\partial t'} = -by't^{'-b-1}$\n",
    "\n",
    "$\\frac{\\partial p}{\\partial t'} = \\frac{\\partial}{\\partial t'}[t^{'a}f(\\xi)]$\n",
    "$=at^{'a-1}f(\\xi) + t^{'a}\\frac{df}{d\\xi}\\frac{\\partial\\xi}{\\partial t'}$\n",
    "$=at^{'a-1}f(\\xi) + t^{'a}\\frac{df}{d\\xi}(-by't^{'-b-1})$\n",
    "$=at^{'a-1}f(\\xi) -by't^{'a-b-1}\\frac{df}{d\\xi}$"
   ]
  },
  {
   "cell_type": "markdown",
   "id": "advised-rachel",
   "metadata": {},
   "source": [
    "$\\frac{\\partial p}{\\partial y'} = t^{'a}\\frac{df}{d\\xi}\\frac{\\partial\\xi}{\\partial y'}$\n",
    "$ = t^{'a}\\frac{df}{d\\xi}t'^{-b}$\n",
    "$ = t^{'a-b}\\frac{df}{d\\xi}$"
   ]
  },
  {
   "cell_type": "markdown",
   "id": "moral-accountability",
   "metadata": {},
   "source": [
    "$\\frac{\\partial^2p}{\\partial y'^2} = t^{'a-b}\\frac{d^2f}{d\\xi^2}\\frac{\\partial\\xi}{\\partial y'}$\n",
    "$ = t^{'a-b}\\frac{d^2f}{d\\xi^2}t^{'-b}$\n",
    "$= t^{'a-2b}\\frac{d^2f}{d\\xi^2}$"
   ]
  },
  {
   "cell_type": "markdown",
   "id": "level-commons",
   "metadata": {},
   "source": [
    "Let’s substitute these into F.K.E:\n",
    "$at^{'a-1}f(\\xi) -by't^{'a-b-1}\\frac{df}{d\\xi}$\n",
    "$=c^2t^{'a-2b}\\frac{d^2f}{d\\xi^2}$\n",
    "\n",
    "$at^{'a-1}f(\\xi) -b\\xi t^{'a-1}\\frac{df}{d\\xi}$\n",
    "$=c^2t^{'a-2b}\\frac{d^2f}{d\\xi^2}$\n",
    "\n",
    "$af(\\xi) -b\\xi\\frac{df}{d\\xi}$\n",
    "$=c^2t^{'1-2b}\\frac{d^2f}{d\\xi^2}$\n",
    "\n",
    "\n",
    "\n",
    "Therefore,\n",
    "\n",
    "The left-hand side of this equation is only a function of ξ, whereas the right-hand side depends on both ξ and t'. This is only possible if the right-hand side is also independent of t'.\n",
    "\n",
    "\n",
    "$1-2b =0 \\rightarrow b =\\frac{1}{2}$\n",
    "\n",
    "$af(\\xi) -\\frac{1}{2}\\xi\\frac{df}{d\\xi}$\n",
    "$=c^2\\frac{d^2f}{d\\xi^2}$\n",
    "\n",
    "If we can solve the above, then we have found a solution of our original equation in the form\n",
    "\n",
    "$p = t^{'a}f(\\frac{y'}{\\sqrt{t'}} )$\n",
    "\n",
    "And this isn’t just a single solution, it is a whole family of solutions because we can choose the constant a.\n",
    "\n",
    "However, for our present problem, only one value of a is relevant. Remember that p represents a probability. That means that its integral must be one:\n",
    "\n",
    "$\\int_{-\\infty}^{\\infty}p(y',t')dy' = 1 = \\int_{-\\infty}^{\\infty}t^{'a}f(\\frac{y'}{\\sqrt{t'}})dy'$  ---(1)"
   ]
  },
  {
   "cell_type": "markdown",
   "id": "humanitarian-atlas",
   "metadata": {},
   "source": [
    "Let $u = \\frac{y'}{\\sqrt{t'}}$"
   ]
  },
  {
   "cell_type": "markdown",
   "id": "binding-rings",
   "metadata": {},
   "source": [
    "$\\frac{du}{dy'} = t^{-1/2}$\n",
    "\n",
    "$\\rightarrow dy' = dut^{1/2}$\n"
   ]
  },
  {
   "cell_type": "markdown",
   "id": "reflected-ethics",
   "metadata": {},
   "source": [
    "Equation (1) then become $t'^{a+1/2}\\int_{-\\infty}^{\\infty}f(u)du =1$"
   ]
  },
  {
   "cell_type": "markdown",
   "id": "brazilian-secretary",
   "metadata": {},
   "source": [
    "$\\because \\int_{-\\infty}^{\\infty}f(u)du =1$\n",
    "$\\therefore$ This is only possible if $a = \\frac{−1}{2}$"
   ]
  },
  {
   "cell_type": "markdown",
   "id": "centered-anime",
   "metadata": {},
   "source": [
    "The ordinary differential equation is now:\n",
    "\n",
    "$-\\frac{1}{2}f(\\xi) -\\frac{1}{2}\\xi\\frac{df}{d\\xi}$\n",
    "$=c^2\\frac{d^2f}{d\\xi^2}$\n",
    "\n",
    "$-\\frac{1}{2}(f(\\xi) +\\xi\\frac{df}{d\\xi})$\n",
    "$=c^2\\frac{d^2f}{d\\xi^2}$\n",
    "\n",
    "$-\\frac{1}{2}(\\frac{d}{d\\xi}\\xi f(\\xi))$\n",
    "$=c^2\\frac{d^2f}{d\\xi^2}$\n",
    "\n"
   ]
  },
  {
   "cell_type": "markdown",
   "id": "appreciated-marathon",
   "metadata": {},
   "source": [
    "Integrate once:\n",
    "\n",
    "$-\\frac{1}{2}\\xi f(\\xi) =c^2\\frac{df}{d\\xi}$+Constant\n",
    "\n",
    "Here, Constant = 0 because as $\\xi \\rightarrow \\infty$, $f(\\xi) \\rightarrow 0$"
   ]
  },
  {
   "cell_type": "markdown",
   "id": "established-morrison",
   "metadata": {},
   "source": [
    "$\\frac{df}{f} = -\\frac{1}{2c^2}\\xi d\\xi$\n",
    "\n",
    "$\\int\\frac{df}{f} = -\\frac{1}{2c^2}\\int\\xi d\\xi$"
   ]
  },
  {
   "cell_type": "markdown",
   "id": "applicable-cancellation",
   "metadata": {},
   "source": [
    "$log f = -\\frac{1}{2c^2}\\frac{1}{2}\\xi^2$ + Constant"
   ]
  },
  {
   "cell_type": "markdown",
   "id": "continuing-thomson",
   "metadata": {},
   "source": [
    "$f = Ae^{-\\xi^2/4c^2}$, where A is an arbitrary constant\n",
    "\n",
    "The constant A is chosen so that the integral of f is one\n",
    "\n",
    "$\\int_{R}f(\\xi)d\\xi = 1\n",
    "\n",
    "$\\int Ae^{-\\xi^2/4c^2} = 1$\n",
    "\n",
    "$A\\int e^{-\\xi^2/4c^2} = 1$ ---(2)\n",
    "\n",
    "Assume $x = \\frac{\\xi}{2c}$\n",
    "\n",
    "$\\frac{dx}{d\\xi} = \\frac{1}{2c}\n",
    "\n",
    "$d\\xi = 2cdx$\n",
    "\n",
    "Equation (2) becomes $2cA\\int e^{-x^2}dx = 1$\n",
    "\n",
    "$2cA\\sqrt{\\pi} = 1$\n",
    "\n",
    "$A= \\frac{1}{2c\\sqrt{\\pi}}$\n"
   ]
  },
  {
   "cell_type": "markdown",
   "id": "reported-router",
   "metadata": {},
   "source": [
    "Therefore, \n",
    "\n",
    "$f = \\frac{1}{2c\\sqrt{\\pi}}e^{-\\xi^2/4c^2}$"
   ]
  },
  {
   "cell_type": "markdown",
   "id": "established-circular",
   "metadata": {},
   "source": [
    "$p = t^{'-1/2}\\frac{1}{2c\\sqrt{\\pi}}e^{-(y'/\\sqrt{t})^2/4c^2}$\n",
    "$=\\frac{1}{2c\\sqrt{\\pi t'}}exp(-\\frac{y'^2}{4c^2t'})$"
   ]
  },
  {
   "cell_type": "markdown",
   "id": "sought-width",
   "metadata": {},
   "source": [
    "So, $y' \\sim N(0, 2c^2t')$"
   ]
  },
  {
   "cell_type": "markdown",
   "id": "matched-hundred",
   "metadata": {},
   "source": [
    "Minor generalization. . . suppose that y' has value y at time t then we have:\n",
    "\n",
    "$p(y,t;y',t') = \\frac{1}{2c\\sqrt{\\pi (t'-t)}}exp(-\\frac{(y'-y)^2}{4c^2(t'-t)})$\n",
    "\n",
    "And this is our transition probability density function for our random walk!\n"
   ]
  },
  {
   "cell_type": "markdown",
   "id": "employed-metropolitan",
   "metadata": {},
   "source": [
    "## Apply Transition Probability Density Function to Ito"
   ]
  },
  {
   "cell_type": "markdown",
   "id": "virgin-boundary",
   "metadata": {},
   "source": [
    "Let’s look at the equations governing the probability distribution for an arbitrary random walk:\n",
    "\n",
    "$dG_t = A(t, G_t)dt+B(t, G_t)dX_t$, for the variable G\n",
    "\n",
    "Need to define $\\phi^+(y,t), \\phi^-(y,t)$ such that the mean of Trinomial Random Walk matches that of the continuous time SDE. Here $\\phi^+, \\phi^-$ are the probability of going up and down, so the probability for no change is $1-\\phi^+-\\phi^-$. Also need to ensure the variance of discrete time random variable matches that of the continuous time SDE. \n",
    "\n",
    "$E[dG] = E[Adt]+E[BdX]$\n",
    "$= A\\delta t$\n",
    "\n",
    "$V[dG] = V[Adt] + V[BdX] = 0 + B^2dt$\n",
    "\n",
    "$V[Adt] = 0$ because $Adt$ is a scalar and the variance of a scaler is 0. "
   ]
  },
  {
   "cell_type": "markdown",
   "id": "changing-phase",
   "metadata": {},
   "source": [
    "### Forward Kolmogorov Equation (or Fokker-Plan)"
   ]
  },
  {
   "cell_type": "markdown",
   "id": "appropriate-booth",
   "metadata": {},
   "source": [
    "$\\frac{\\partial p}{\\partial t'}=\\frac{1}{2}\\frac{\\partial^2}{\\partial y'^2}(B(y',t')^2p)-\\frac{\\partial}{\\partial y'}(A(y',t')p)$ (not derived in class)\n",
    "\n",
    "In M1L3, $B(y',t')^2 = 1$, and $A(y',t')=0$\n",
    "\n",
    "This is a linear parabolic differential equation. y, and t are fixed.\n",
    "\n",
    "For example, in the case of $dS=\\mu S dt+\\sigma SdX$:\n",
    "\n",
    "$A(s,t)=\\mu S$\n",
    "\n",
    "$B(s,t)=\\sigma S$\n",
    "\n",
    "So, \n",
    "\n",
    "$\\frac{\\partial p}{\\partial t'}=\\frac{1}{2}\\frac{\\partial^2}{\\partial y'^2}(B(y',t')^2p)-\\frac{\\partial}{\\partial y'}(A(y',t')p)$\n",
    "\n",
    "$=\\frac{1}{2}\\frac{\\partial^2}{\\partial S'^2}\\sigma^2 S'^2p-\\frac{\\partial}{\\partial S'}(\\mu S'p)$\n",
    "\n",
    "to solve for $p(S,t;S',t')$ we need to reduce the above equation to a 1-dimensional heat equation:\n",
    "\n",
    "(1) Change time\n",
    "\n",
    "(2) log S\n",
    "\n",
    "(3) transformation of x-axis\n",
    "\n",
    "...we will derive this in Module 3:\n",
    "\n",
    "\n",
    "$p(S,t;S',t') = \\frac{1}{\\sigma S'\\sqrt{2\\pi(t'-t)}}e^{-(log(S/S')+(\\mu-\\frac{1}{2}\\sigma^2)(t'-t))^2/2\\sigma^2(t'-t)}$\n",
    "\n",
    "This is the transition PDF for stock price. So if you want to figure out what's the probability for what the stock price might be in the future, simply integrate the above, assuming you know the price today."
   ]
  },
  {
   "cell_type": "markdown",
   "id": "biblical-oliver",
   "metadata": {},
   "source": [
    "#### The steady-state distribution"
   ]
  },
  {
   "cell_type": "markdown",
   "id": "amber-pleasure",
   "metadata": {},
   "source": [
    "Some random walks have a steady-state distribution. That is, in the long run as $t' \\rightarrow \\infty$ the distribution p(y, t; y', t') as a function of y' settles down to be independent of the starting state y and time t. That is, $P=P(y,t) \\rightarrow P=P(y)$. Therefore, $\\frac{\\partial p}{\\partial t'} \\rightarrow 0$, and $\\frac{\\partial}{\\partial y'} \\rightarrow \\frac{d}{dy'}$. Possible examples are stochastic differential equation models for interest rates, inflation, volatility.\n",
    "\n",
    "Some random walks have no such steady state even though they have a time-independent equation. For example the lognormal random walk either grows without bound or decays to zero.\n",
    "\n",
    "If there is a steady-state distribution p∞(y') then it satisfies the ordinary differential equation $\\frac{1}{2}\\frac{d^2}{dy'^2}(B^2p\\infty)-\\frac{d}{dy'}(Ap\\infty)=0$   (FKT for steady state distribution)\n",
    "\n",
    "Here, $p\\infty$ represents steady state distribution because $t' \\rightarrow \\infty$.\n",
    "\n",
    "Example: The Vasicek model\n",
    "\n",
    "$dr = γ (\\overline r − r) dt+σdX$\n",
    "\n",
    "$= - γ (r - \\overline r) dt+σdX$\n",
    "\n",
    "\n",
    "The steady-state distribution p∞(r') satisfies:\n",
    "\n",
    "$\\frac{1}{2}\\sigma^2\\frac{d^2p\\infty}{dr'^2}-\\gamma\\frac{d}{dr'}((\\overline r-r')p\\infty)=0$\n",
    "\n",
    "Now, let's solve for $p\\infty$:\n",
    "\n",
    "$\\frac{1}{2}\\sigma^2\\frac{d^2p\\infty}{dr'^2} = -\\gamma\\frac{d}{dr'}((r'- \\overline r)p\\infty)$\n",
    "\n",
    "Integrate once:\n",
    "\n",
    "$\\frac{1}{2}\\sigma^2\\frac{dp\\infty}{dr'} = -\\gamma((r'- \\overline r)p\\infty+ Constant$\n",
    "\n",
    "$\\because$ p is a pdf & r is a random variable\n",
    "\n",
    "$\\therefore$ as r $\\rightarrow \\infty$, $p \\rightarrow 0$ and $\\frac{dp}{dr} \\rightarrow 0$. So Constant = 0.\n",
    "\n",
    "$\\frac{1}{2}\\sigma^2\\frac{dp\\infty}{dr'} = -\\gamma((r'- \\overline r)p\\infty$\n",
    "\n",
    "\n",
    "$\\frac{dp}{p}=-\\frac{2\\gamma}{\\sigma^2}(r-\\overline r)dr$\n",
    "\n",
    "integrate:\n",
    "\n",
    "$\\int\\frac{dp}{p}=-\\frac{2\\gamma}{\\sigma^2}\\int(r-\\overline r)dr$\n",
    "\n",
    "$log p = -\\frac{2\\gamma}{\\sigma^2}(\\frac{1}{2}(r-\\overline r)^2) + Constant$\n",
    "\n",
    "$log p = -\\frac{\\gamma}{\\sigma^2}(r-\\overline r)^2 + Constant$\n",
    "\n",
    "$p = Ae^{-\\frac{\\gamma}{\\sigma^2}(r-\\overline r)^2}$\n",
    "\n",
    "To calculate A, use $\\int_{R}pdr=1$ and use integration by substitution:\n",
    "\n",
    "put $x=\\frac{\\sqrt{\\gamma}}{\\sigma}(r-\\overline r)$\n",
    "\n",
    "$\\frac{dx}{dr} = \\frac{\\sqrt{\\gamma}}{\\sigma}$\n",
    "\n",
    "$\\frac{\\sigma}{\\sqrt{\\gamma}}dX=dr$\n",
    "\n",
    "$\\int_{R}pdr=1$\n",
    "\n",
    "$A\\int e^{-X^2}dr =1$\n",
    "\n",
    "$A\\int e^{-X^2}\\frac{\\sigma}{\\sqrt{\\gamma}}dX =1$\n",
    "\n",
    "$\\frac{\\sigma}{\\sqrt{\\gamma}}A\\int e^{-X^2}dX = 1$\n",
    "\n",
    "$\\frac{\\sigma}{\\sqrt{\\gamma}}A\\sqrt{\\pi} = 1$\n",
    "\n",
    "$A=\\frac{1}{\\sigma}{\\sqrt{\\frac{\\gamma}{\\pi}}}$\n",
    "\n",
    "\n",
    "$p_\\infty (r) = \\frac{1}{\\sigma}{\\sqrt{\\frac{\\gamma}{\\pi}}}e^{-\\frac{\\gamma}{\\sigma^2}(r-\\overline r)^2}$\n",
    "\n",
    "In other words, the interest rate r is Normally distributed with mean $\\overline r$ and standard deviation $\\sigma/\\sqrt{2\\gamma}$"
   ]
  },
  {
   "cell_type": "markdown",
   "id": "micro-count",
   "metadata": {},
   "source": [
    "### Backward Kolmogorov Equation"
   ]
  },
  {
   "cell_type": "markdown",
   "id": "amino-brief",
   "metadata": {},
   "source": [
    "$\\frac{\\partial p}{\\partial t} + \\frac{1}{2}B(y,t)^2\\frac{\\partial^2p}{\\partial y^2}+A(y,t)\\frac{\\partial p}{\\partial y}=0$\n"
   ]
  },
  {
   "cell_type": "markdown",
   "id": "adequate-venice",
   "metadata": {},
   "source": [
    "# Applied Stochastic Calculus"
   ]
  },
  {
   "cell_type": "markdown",
   "id": "freelance-nelson",
   "metadata": {},
   "source": [
    "## Brownian Motion: $X_t$\n",
    "\n",
    "It is the continuous-time limit of our discrete time random walk. It is denoted as $X(t), or X_t, or W, or W(t), or W_t$. \n",
    "\n",
    "**Classical definition of a Brownian motion:**\n",
    "\n",
    "1. $X_0$ = 0\n",
    "2. the sample path $t \\rightarrow X_t$ are continuous\n",
    "3. independent increments: for $t_1 < t_2 < t_3 < t_4$ the increments $X_{t_4}-X_{t_3}, X_{t_2}-X_{t_1}$ are independent\n",
    "4. normally distributed increments: $X_t-X_s$ ~ $N(0,|t-s|)$  (note here we are using the left hand integral, i.e. non-antcipatory.)"
   ]
  },
  {
   "cell_type": "markdown",
   "id": "fixed-preserve",
   "metadata": {},
   "source": [
    "### Construction"
   ]
  },
  {
   "cell_type": "markdown",
   "id": "mathematical-canberra",
   "metadata": {},
   "source": [
    "Toss a coin n times, within a fixed and finite period t, and bet size for each time being +\\\\$$\\sqrt{t/n}$ \n",
    "or -\\\\$$\\sqrt{t/n}$. For the $i$th toss:\n",
    "\n",
    "$E[R_i]=\\sum x_if_i = (\\sqrt{t/n})\\times(1/2)+(-\\sqrt{t/n})\\times(1/2)=0$\n",
    "\n",
    "$V[R_i]=E[R_i^2] - E[R_i]^2=\\sum x_i^2f_i = (\\sqrt{t/n})^2 = t/n$\n",
    "\n",
    "$E[R_iR_j]=0$\n",
    "\n",
    "Denote $S_i = \\sum_{j=1}^i R_j$, subject to $S_0 =0$, then:\n",
    "        \n",
    "$E[S(t)] = E[\\lim_{n\\rightarrow\\infty}\\sum_{i=1}^n R_i]\n",
    "=\\lim_{n\\rightarrow\\infty}\\sum_{i=1}^n E[R_i] = n\\times0=0$\n",
    "\n",
    "$V[S_i] = V[\\lim_{n\\rightarrow\\infty}\\sum_{i=1}^n R_n]\n",
    "=\\lim_{n\\rightarrow\\infty}\\sum_{i=1}^n V[R_i] = n\\times t/n=t$\n",
    "\n",
    "    * Mean and Variance (Math Primer p.167)\n",
    "        * Mean: $u = E[X] = \\sum_{i=1}^n x_if(x_i)$\n",
    "        * Variance: $V[X] = E[(X-u)^2] = E[X^2] - u^2 = \\sum_{i=1}^n (x_i)^2f(x_i) - u^2$\n",
    "\n",
    "As you toss coins more times, the path follows a random walk.\n",
    "\n",
    "As $n \\rightarrow \\infty$, $t/n \\rightarrow 0$. The limiting process (i.e. the bet size is scaled down so won't S won't shoot up to infinity) for this random walk as the time steps go to zero is called Brownian Motion, denoted as $X(t), or X_t, or W, or W(t), or W_t$. It is the continuous-time limit of our discrete time random walk."
   ]
  },
  {
   "cell_type": "markdown",
   "id": "processed-month",
   "metadata": {},
   "source": [
    "### Properties"
   ]
  },
  {
   "cell_type": "markdown",
   "id": "distributed-crown",
   "metadata": {},
   "source": [
    "**1. $X_0 = 0$**\n",
    "\n",
    "**2. Continuity**: The paths are continuous everywhere\n",
    "\n",
    "**3. Finiteness**\n",
    "\n",
    "**4. The Markov Property**\n",
    "\n",
    "i.e. Memoryless State\n",
    "\n",
    "The conditional distribution of $X(t)$ given information up until $\\tau < t$ depends only on $X(\\tau)$.\n",
    "    \n",
    "**5. The Martingale Property**\n",
    "\n",
    "i.e. $W_t$ is a martinagle (Asset prices don't follow this property until they are discounted.)\n",
    "\n",
    "Discrete version: $E[S_{n+1}|S_n] = S_n$\n",
    "\n",
    "Continuous version:\n",
    "$E_s[W_t|F_s] = E_s[W_t|W_s]$, where $s<t$\n",
    "\n",
    "$=E_s[W_t-W_s+W_s|W_s]$\n",
    "\n",
    "$=E_s[W_t-W_s|W_s] + E_s[W_s|W_s]$, we know $W_t-W_s \\sim N(0, |t-s|)$, so:\n",
    "\n",
    "$=0 + W_s = W_s$\n",
    "\n",
    "**6. Quadratic Variation**\n",
    "\n",
    "The quadratic variation of the random walk is: $Q[X(t)] = V^2 = \\sum_{j=1}^n (X(t_j)-X(t_{j-1}))^2 = n \\times (\\sqrt{t/n})^2 = t$ \n",
    "\n",
    "(1) Proof of Quadratic Variation Property:\n",
    "\n",
    "Consider $F(t,X_t)=X^2_T$\n",
    "\n",
    "By Ito I:\n",
    "\n",
    "$X^2_T = X^2_0 + \\frac{1}{2}\\int_{0}^{T}2dt + \\int_{0}^{T}2X_tdX_t$\n",
    "\n",
    "$= 0+ \\int_{0}^{T}dt + 2\\int_{0}^{T}X_tdX_t$\n",
    "\n",
    "Taking the expectation:\n",
    "\n",
    "$E[X^2_T] = E[\\int_{0}^{T}dt] + 2E[\\int_{0}^{T}X_tdX_t]$\n",
    "\n",
    "Because Ito is a martingale, $E[\\int_{0}^{T}X_tdX_t] = 0$.\n",
    "\n",
    "We get $E[X^2(T)]= T$   ---Quadratic variation property\n",
    "\n",
    "\n",
    "(2) Now, prove $E[\\int_{0}^{T}X_tdX_t] = 0$:\n",
    "\n",
    "We know that  $X_{i+1} - X_i$ is $dX$ and is a martingale, i.e. $E[X_{i+1}-X_i]=0$ (because $dX$ ~ $N(0,dt)$)\n",
    "\n",
    "\n",
    "Therefore, $E[\\int_{0}^{T}X_tdX_t] = E[\\sum_{i=0}^{N-1}f(t_i,X_i)(X_{i+1}-X_i)] $\n",
    "$= \\sum_{i=0}^{N-1}f(t_i,X_i)E[(X_{i+1}-X_i)] = 0$ \n",
    "\n",
    "\n",
    "\n",
    "**7. Normality**\n",
    "\n",
    "Increments are Gaussian (because of CLT. Coin toss is Bernoulli distribution, but because we are doing so many of them, according to CLT, it's Gaussian distribution.), i.e. $X(t_i) - X(t_{i-1})$ ~ $N(0, |t_i-t_{i_1}|)$\n",
    "\n",
    "Therefore:\n",
    "\n",
    "(1) $E[dX_t] = 0$\n",
    "\n",
    "(2) $V[dX_t]=dt$\n",
    "\n",
    "(3) The pdf for $X_t-X_s$ if t > s, is $\\frac{1}{{\\sqrt {2\\pi |t-s|}}}e^\\frac{-(X_t-X_s)^2}{2|t - s|}$\n",
    "\n",
    "(4) And increments are independent from each other\n",
    "\n",
    "(5) $dX$ ~ $\\phi\\sqrt{dt}$, where $\\phi$ ~ $N(0,1)$, i.e. they both have the same mean and variance. Therefore, we can say the movement for each timestep is O($\\sqrt{dt})$ (the order of square root $dt$. The reason we say order is because $dt$ is multiplied by the $\\phi$.) \n",
    "\n",
    "(6) $X_t$ is also normally distributed because $X_t = X_t-X_0$ ~ $N(0,t)$"
   ]
  },
  {
   "cell_type": "markdown",
   "id": "regulated-heater",
   "metadata": {},
   "source": [
    "## Brownian Motion with Drift: $dS = \\mu dt+ \\sigma dX$"
   ]
  },
  {
   "cell_type": "markdown",
   "id": "derived-environment",
   "metadata": {},
   "source": [
    "$dX$ is an increment of Brownian motion, known as a Wiener process and is a Normally distributed random variable such that dX ∼ N (0, dt)\n",
    "\n",
    "* Math Primer Review: \n",
    "    * Function: A function denoted f(x) of a single variable of x is a rule that assings each element of a set X (written x $\\epsilon$ X) to exactly one element y of a set Y (y $\\epsilon$ Y). y = f(x); x $\\rightarrow$ f(x); f: x $\\rightarrow$ y\n",
    "    * Random variables: Random variables assign numbers to events. Thus a random variable (RV) X is a function which maps from the sample space $\\Omega$ to the set of real numbers. i.e. X: $\\omega$ $\\epsilon$ $\\Omega$ $\\rightarrow$ R\n",
    "    * Stochastic variable: time-dependent random variable\n",
    "    * Stochastic calculus is very important because of the underlying random nature of financial markets. \n",
    "\n",
    "\n",
    "\n",
    "\n",
    "\n",
    "\n",
    "$\\sigma dX$ is also a Brownian motion\n",
    "\n",
    "If we add a drift term $\\mu dt$ then $dS = \\mu dt+ \\sigma dX$. This is called Brownian Motion with Drift, or Generalized Wiener Process.\n"
   ]
  },
  {
   "cell_type": "markdown",
   "id": "wanted-honor",
   "metadata": {},
   "source": [
    "## Geometric Brownian Motion: $\\frac{dS}{S}=\\mu dt+\\sigma dX$"
   ]
  },
  {
   "cell_type": "markdown",
   "id": "sized-squad",
   "metadata": {},
   "source": [
    "Now, with the above equation, S (stock price) can go to negative, which is not realistic, that's why we introduce Geometric Brownian Motion (or lognormal random walk, or exponential Brownian Motion), which is: $\\frac{dS}{S}=\\mu dt+\\sigma dX$. This will never be negative. Here, drift scales with timestep, and diffusion scales with $\\sqrt{timestep}$. It's called geometric or lognormal because if we make things simple and make it zero volatility, i.e. $\\sigma =0$, then $\\frac{dS}{S}=\\mu dt$\n",
    "\n",
    "To solve S we need to integrate both sides:\n",
    "\n",
    "$\\int{\\frac{dS}{S}}=\\mu\\int dt$\n",
    "\n",
    "$log S = \\mu t + C$\n",
    "\n",
    "$\\frac{S_t}{S_0} = Ae^{\\mu t}$\n",
    "\n",
    "At time $t=0$, $S_t = S_0$ \n",
    "\n",
    "$S_0 = S_0Ae^{\\mu t} \\rightarrow A = 1$\n",
    "\n",
    "$S_t = S_0e^{\\mu t}$   (lognormal walk)\n"
   ]
  },
  {
   "cell_type": "markdown",
   "id": "built-marshall",
   "metadata": {},
   "source": [
    "## Ito, Ito Integral, and Ito Product Rule"
   ]
  },
  {
   "cell_type": "markdown",
   "id": "significant-afghanistan",
   "metadata": {},
   "source": [
    "Goal: We are interested in knowing what happens for $t \\rightarrow t+dt$, i.e.: finding out $dG$\n",
    "\n",
    "* Ito: Stochastic Differential Equation (SDE): $dG_t = A(t, G_t)dt+B(t, G_t)dX_t$\n",
    "\n",
    "* Ito Integral:$\\int_{0}^{t}B(t, G_t)dX$\n",
    "\n",
    "* The integral form of Ito:\n",
    "    * $G_t = X + \\int_{0}^{t} A(t,G_t)dt + \\int_{0}^{t}B(t, G_t)dX$, assuming $G_0 = X$\n",
    "\n",
    "Ito I & Ito II: dealing with function of Brownian Motion\n",
    "\n",
    "Ito III: dealing with function of Stochastic Process\n",
    "\n",
    "\n"
   ]
  },
  {
   "cell_type": "markdown",
   "id": "statistical-transparency",
   "metadata": {},
   "source": [
    "The reason we need Ito is that we cannot apply everyday calculus to stochastic variables:\n",
    "\n",
    "* The stochastic variables here is Brownian Motion, $X_t$. i.e. {$X_t: t \\epsilon R^+$} (family of random variables indexed with time)\n",
    "\n",
    "* Everyday calculus says: $f'(x) = \\lim_{\\delta x\\rightarrow 0} \\frac{f(x+\\delta x) - f(x)}{\\delta x}$\n",
    "\n",
    "* Applying to $X_t$:\n",
    "$\\frac{dX}{dt} = \\lim_{\\delta t \\rightarrow 0}\\frac{X(t+\\delta t)-X(t)}{\\delta t}$\n",
    "= $\\lim_{\\delta t \\rightarrow 0}\\frac{O(\\sqrt {\\delta t})}{\\delta t}$\n",
    "= $\\lim_{\\delta t \\rightarrow 0}\\frac{1}{\\sqrt {\\delta t}} \\rightarrow$ doesn't exist (differentiable nowhere)\n",
    "\n",
    "For this reason, we instead work with stochastic differential equation."
   ]
  },
  {
   "cell_type": "markdown",
   "id": "micro-diabetes",
   "metadata": {},
   "source": [
    "### Stochastic Process"
   ]
  },
  {
   "cell_type": "markdown",
   "id": "lesbian-douglas",
   "metadata": {},
   "source": [
    "Stochastic process means: ${G_t: t \\epsilon R^+}$\n",
    "\n",
    "Here $G_t$ can mean any asset class. For example $S_t$ for stock price, $R_t$ for interest rate, $\\sigma_t$ for volatility, etc. \n",
    "\n",
    "We are interested in knowing what happens for $t \\rightarrow t+dt$, i.e.:\n",
    "\n",
    "$dG = A(t, G_t)dt+B(t, G_t)dX_t$, this is a SDE for G or random walk for $dG$.\n",
    "\n",
    "* $A(t, G_t)dt$ is deterministic - $A(t, G_t)$ is drift or growth\n",
    "* $B(t, G_t)dX$ is random - $B(t, G_t)$ is diffusion or volatility.\n",
    "\n",
    "The most general way of writing down SDE is: $dG_t = A(t, G_t)dt+B(t, G_t)dX_t$, for any arbitrary stochastic process $G$. $G$ could be anything. \n",
    "\n",
    "Assume $G_0=X$. Now do integration:\n",
    "\n",
    "$\\int_{0}^{t}dG_t$\n",
    "$= \\int_{0}^{t} A(t,G_t)ds + \\int_{0}^{t}B(t, G_t)dX$, where s is a dummy variable for t\n",
    "\n",
    "(Note $\\int_{0}^{t}B(t, G_t)dX$ is Ito integral, because we are integrating against a Brownian Motion.)\n",
    "\n",
    "$G_t -G_0 = \\int_{0}^{t} A(t,G_t)ds + \\int_{0}^{t}B(t, G_t)dX$\n",
    "\n",
    "$G_t = G_0 + \\int_{0}^{t} A(t,G_t)ds + \\int_{0}^{t}B(t, G_t)dX$\n",
    "$= X + \\int_{0}^{t} A(t,G_t)ds + \\int_{0}^{t}B(t, G_t)dX$\n",
    "\n"
   ]
  },
  {
   "cell_type": "markdown",
   "id": "western-wholesale",
   "metadata": {},
   "source": [
    "### Ito I: $dF = \\frac{1}{2}\\frac{d^2F}{dX^2}dt + \\frac{dF}{dX}dX$"
   ]
  },
  {
   "cell_type": "markdown",
   "id": "written-burden",
   "metadata": {},
   "source": [
    "Use Ito I for functions that look like F=F(X). For example: $X^n, sinX, e^x, logX$.\n",
    "\n",
    "According to Mean Square Limit (or Mean Square Convergence): $E[dX^2] \\rightarrow dt$ (behaves like $dt$ as $dt \\rightarrow 0$), note here $dX^2 = (dX)^2$.\n",
    "\n",
    "i.e. $\\lim_{\\delta t \\rightarrow 0}dX^2 = dt$\n",
    "\n",
    "We saw similar outcome from Quadratic Variation: $\\sum(X_t-X_{t-1})^2 = t$\n",
    "\n",
    "implication: whenever you see $dX^2$, replace it with $dt$. i.e. $dX^2 = dt$\n",
    "\n",
    "According to TSE, we get $F(X+dX) = F(X) +\\frac{dF}{dX}dX +\\frac{1}{2}\\frac{d^2F}{dX^2}dX^2...$ \n",
    "\n",
    "In a regular TSE, say, $f(x+\\delta x) = f(x) +\\frac{df}{dx}\\delta x +\\frac{1}{2}\\frac{d^2f}{dx^2}\\delta x^2...$,\n",
    "$\\delta x^2$ is usually very small so we can ignore it, but in Brownian Motion, $dX^2$ is not small and cannot be ignored. It actually behaves like $dt$. \n",
    "\n",
    "Total Change = $dF = F(X+dX) - F(X) = \\frac{dF}{dX}dX +\\frac{1}{2}\\frac{d^2F}{dX^2}dX^2 = \\frac{dF}{dX}dX +\\frac{1}{2}\\frac{d^2F}{dX^2}dt$\n",
    "\n",
    "$dt$ is what differentiates the stochastic calculus from everyday calculus. \n",
    "\n",
    "$\\frac{dF}{dX}$ = diffusion\n",
    "\n",
    "$\\frac{1}{2}\\frac{d^2F}{dX^2}$ = drift"
   ]
  },
  {
   "cell_type": "markdown",
   "id": "indonesian-finder",
   "metadata": {},
   "source": [
    "### Ito II: $dF = (\\frac{\\partial F}{\\partial t}+\\frac{1}{2}\\frac{\\partial ^2 F}{\\partial X^2})dt + \\frac{\\partial F}{\\partial X}dX$ "
   ]
  },
  {
   "cell_type": "markdown",
   "id": "operational-mirror",
   "metadata": {},
   "source": [
    "Use Ito II for functions that look like $F=F(t, X_t)$. For example: $t^2X^2, e^{t+X}, t^2 sinX$\n",
    "\n",
    "Now we are dealing with two variables: $t \\rightarrow t+dt$, and $X \\rightarrow X+dX$, so we need to use two-dimensional TSE:\n",
    "\n",
    "$F(t+dt, X+dX) = F(t,X) + \\frac{\\partial F}{\\partial t}dt + \\frac{\\partial F}{\\partial X}dX+\\frac{1}{2}\\frac{\\partial ^2 F}{\\partial X^2}dX^2$\n",
    "$= F(t,X) + \\frac{\\partial F}{\\partial t}dt + \\frac{\\partial F}{\\partial X}dX+\\frac{1}{2}\\frac{\\partial ^2 F}{\\partial X^2}dt$\n",
    "\n",
    "Total Change \n",
    "$= dF = F(t+dt, X+dX) - F(t,X) = (\\frac{\\partial F}{\\partial t}+\\frac{1}{2}\\frac{\\partial ^2 F}{\\partial X^2})dt + \\frac{\\partial F}{\\partial X}dX$ "
   ]
  },
  {
   "cell_type": "markdown",
   "id": "utility-atlantic",
   "metadata": {},
   "source": [
    "### Ito III: $dV = (\\mu S\\frac{dV}{dS}+\\frac{1}{2}\\sigma^2S^2\\frac{d^2V}{dS^2})dt +(\\sigma S\\frac{dV}{dS})dX$\n"
   ]
  },
  {
   "cell_type": "markdown",
   "id": "timely-schema",
   "metadata": {},
   "source": [
    "Rather than being intersted in the function of a brownian motion, we now are intersted in the function of a stochastic process.\n",
    "\n",
    "Ito III can be used to solve any financial contract that is based on stock price.\n",
    "\n",
    "Suppose we now wish to extend Ito I to consider the change in an option price V (S) where the underlying variable S follows a geometric Brownian motion. An obvious question we may ask is, what is the jump in V (S +dS) when S → S +dS?\n",
    "\n",
    "\n",
    "Using T.S.E:\n",
    "\n",
    "$V(S+dS)=V(S) + \\frac{dV}{dS}dS +\\frac{1}{2}\\frac{d^2V}{dS^2}dS^2$\n",
    "\n",
    "$dV = \\frac{dV}{dS}dS +\\frac{1}{2}\\frac{d^2V}{dS^2}dS^2$\n",
    "\n",
    "$= \\frac{dV}{dS}(\\mu Sdt+\\sigma SdX) +\\frac{1}{2}\\frac{d^2V}{dS^2}\\sigma^2S^2dt$\n",
    "\n",
    "$= (\\mu S\\frac{dV}{dS}+\\frac{1}{2}\\sigma^2S^2\\frac{d^2V}{dS^2})dt +(\\sigma S\\frac{dV}{dS})dX$\n",
    "\n",
    "Hint: \n",
    "\n",
    "* if $dG = A(t, G_t)dt+B(t, G_t)dX_t$\n",
    "\n",
    "* then $dG^2  =A^2dt^2 + 2ABdtdX+B^2dX^2 = O(dt^2)+O(dt^{(3/2)} + B^2dt = B^2dt$\n",
    "\n",
    "Therefore, $dS^2 = (\\mu Sdt + \\sigma SdX)^2 = \\sigma^2S^2dt$\n",
    "\n",
    "Ito II vs Ito III: Ito II is still Brownian motion, Ito III now S has it's own makeup. "
   ]
  },
  {
   "cell_type": "markdown",
   "id": "proud-knowing",
   "metadata": {},
   "source": [
    "#### Important Examples\n",
    "\n",
    "**1. V (S) = logS**\n",
    "\n",
    "\n",
    "\n",
    "$\\frac{dV}{dS}=\\frac{1}{S}$\n",
    "\n",
    "$\\frac{d^2V}{dS^2}=-\\frac{1}{S^2}$\n",
    "\n",
    "$dV = (\\mu S(\\frac{1}{S}+\\frac{1}{2}\\sigma^2S^2(-\\frac{1}{S^2}))dt +\\sigma S(\\frac{1}{S})dX$ \n",
    "\n",
    "$ d(logS) = (\\mu-\\frac{1}{2}\\sigma^2)dt +\\sigma dX$\n",
    "\n",
    "We want to solve for S because we want determine stock prices. Here's $\\mu, S \\epsilon R$\n",
    "\n",
    "Integrating both sides between 0 and t:\n",
    "\n",
    "$\\int_{0}^{t} = \\int_{0}^{t}(\\mu-\\frac{1}{2}\\sigma^2)d\\tau +\\int_{0}^{t}\\sigma dX$   (t>0)\n",
    "\n",
    "$log\\frac{S_t}{S_0} = (\\mu-\\frac{1}{2}\\sigma^2)t + \\sigma(X(t)-X(0))$\n",
    "\n",
    "\n",
    "Take exponential on both sides, assuming X(0)=0 and S(0) = $S_0$:\n",
    "\n",
    "$S(t) = S_0exp((\\mu-\\frac{1}{2}\\sigma^2)t + \\sigma(X(t))$\n",
    "\n",
    "$ = S_0exp((\\mu-\\frac{1}{2}\\sigma^2)t + \\sigma\\phi\\sqrt{t})$\n",
    "\n",
    "Usage:\n",
    "\n",
    "$\\int_{t}^{T}: S_T=S_texp((\\mu-\\frac{1}{2}\\sigma^2)(T-t) + \\sigma\\phi\\sqrt{T-t})$\n",
    "\n",
    "$\\int_{t}^{t+\\delta t}: S_{t+\\delta t}=S_texp((\\mu-\\frac{1}{2}\\sigma^2)\\delta t + \\sigma\\phi\\sqrt{\\delta t})$\n",
    "\n",
    "**2. Vasicek Interest rate model for short-term interest rates**\n",
    "\n",
    "$dr = γ (\\overline r − r) dt+σdX$\n",
    "\n",
    "$= - γ (r - \\overline r) dt+σdX$\n",
    "\n",
    "γ refers to the reversion rate and $\\overline r$ denotes the mean rate\n",
    "\n",
    "For the behvaior of interest rate, a closed form solution does exist. That's why people love Vasicek. \n",
    "\n",
    "Do a substitution: \n",
    "\n",
    "$u_t = r - \\overline r$\n",
    "\n",
    "then  $du  = d(r - \\overline r) = dr$, because $\\overline r$ is a constant  \n",
    "\n",
    "$du = - γudt+σdX$\n",
    "\n",
    "$du + γudt = σdX$\n",
    "\n",
    "Now, consider an integrating factor, i.e. multiply by $e^{\\gamma t}$    (need to review the integrating factor on math primer)\n",
    "\n",
    "$e^{rt}(du + γudt) = e^{rt}σdX$\n",
    "\n",
    "$d(e^{rt}u) = e^{rt}σdX$\n",
    "\n",
    "Integrate over (0, t)\n",
    "\n",
    "$\\int_{0}^{t}d(e^{rs}u) = \\int_{0}^{t}e^{rs}σdX$\n",
    "\n",
    "$e^{rt}u_t - u_0 = σ\\int_{0}^{t}e^{rs}dX$\n",
    "\n",
    "$u_t = u_0e^{-\\gamma t}+\\sigma\\int_{0}^{t}e^{r(s-t)}dX_s$\n",
    "\n",
    "\n",
    "Using integrating by parts or stochastic integration formula:\n",
    "\n",
    "$=u_0e^{-\\gamma t}+\\sigma(X(t) - \\gamma\\int_{0}^{t}X(s)e^{r(s-t)}ds)$    (need to review \"integrating by parts)\n",
    "\n",
    "\n",
    "For $\\int e^{\\gamma(s-t)} dX$, using integration by parts:\n",
    "\n",
    "$v = e^{\\gamma(s-t)} \\rightarrow v'=\\gamma e^{\\gamma(s-t)}$\n",
    "\n",
    "$du = dX \\rightarrow u=X$\n"
   ]
  },
  {
   "cell_type": "markdown",
   "id": "blocked-miniature",
   "metadata": {},
   "source": [
    "### Ito IV: $dV = (\\frac{\\partial V}{\\partial t}+\\mu S\\frac{\\partial V}{\\partial S}+\\frac{1}{2}\\sigma^2S^2\\frac{\\partial^2V}{\\partial S^2})dt+\\sigma S\\frac{\\partial V}{\\partial S}dX$\n"
   ]
  },
  {
   "cell_type": "markdown",
   "id": "generous-yeast",
   "metadata": {},
   "source": [
    "We will often want to simulate paths of correlated random walks. We may want to examine the statistical properties of a portfolio of stocks, or value a convertible bond under the assumption of random asset price and random interest rates.\n",
    "\n",
    "Example:\n",
    "\n",
    "Assets S_1 and S_2 both follow lognormal random walks with correlation ρ.\n",
    "In continuous time we write:\n",
    "\n",
    "$dS_1 = μ_1S_1 dt+σ_1S_1 dX_1$\n",
    "\n",
    "$dS_2 = μ_2S_2 dt+σ_2S_2 dX_2$\n",
    "\n",
    "with $E[dX_1 dX_2] = ρ dt$.  (this implies $E[\\phi_1,\\phi_2]=\\rho$)\n",
    "\n",
    "$S_{1_{i+1}}-S_{1_{i}} = S_{1_{i}}(μ_1\\delta t+σ_1\\phi_1\\delta t^{1/2})$\n",
    "\n",
    "$S_{2_{i+1}}-S_{2_{i}} = S_{2_{i}}(μ_1\\delta t+σ_1\\phi_1\\delta t^{1/2})$\n",
    "\n",
    "Q: How can we choose a $φ_1$ and a $φ_2$ which are both Normally distributed, both have mean zero and standard deviation of one,\n",
    "and with a correlation of ρ between them?\n",
    "\n",
    "A: This can be done in two steps, first pick two uncorrelated Normally distributed random variables, and then combine them.\n",
    "\n",
    "Step 1: \n",
    "\n",
    "Simulate $\\epsilon_1$ and $\\epsilon_2$ such that $\\epsilon_1$, $\\epsilon_2$ ~ $N(0,1)$\n",
    "\n",
    "$E[\\epsilon_1,\\epsilon_2]=0$\n",
    "\n",
    "Simulate $\\phi_1$ and $\\phi_2$ such that $\\phi_1$, $\\phi_2$ ~ $N(0,1)$\n",
    "\n",
    "$E[\\phi_1,\\phi_2]=\\rho$\n",
    "\n",
    "Recall $E[\\phi_1]=E[\\phi_2]=0$ and $V[\\phi_1]= V[\\phi_2] =1$\n",
    "\n",
    "Step 2: Convert these independent Normal numbers into correlated Normals by taking a linear combination.\n",
    "\n",
    "Set $\\phi_1=\\epsilon_1$\n",
    "\n",
    "and $\\phi_2=\\alpha\\epsilon_1+\\beta\\epsilon_2$\n",
    "\n",
    "(1) We know $E[\\phi_1,\\phi_2]=\\rho$\n",
    "\n",
    "$E[\\epsilon_1(\\alpha\\epsilon_1+\\beta\\epsilon_2)] = \\rho$\n",
    "\n",
    "$\\alpha E[\\epsilon_1^2]+\\beta E[\\epsilon_1\\epsilon_2] = \\rho$\n",
    "\n",
    "$\\alpha(1)+\\beta(0)=\\rho$\n",
    "\n",
    "$\\therefore \\alpha=\\rho$\n",
    "\n",
    "(2) We know $E[\\phi_2^2]=1$\n",
    "\n",
    "$E[(\\alpha\\epsilon_1+\\beta\\epsilon_2)^2]= 1$\n",
    "\n",
    "$E[\\alpha^2\\epsilon_1^2+\\beta^2\\epsilon_2^2+2\\alpha\\beta\\epsilon_1\\epsilon_2] = 1$\n",
    "\n",
    "$\\alpha^2E[\\epsilon_1^2]+\\beta^2E[\\epsilon_2^2]+2\\alpha\\beta E[\\epsilon_1\\epsilon_2]=1$\n",
    "\n",
    "$\\alpha^2(1)+\\beta^2(1)+2\\alpha\\beta(0)=1$\n",
    "\n",
    "$\\rho^2+\\beta^2=1$\n",
    "\n",
    "$\\beta = \\sqrt{1-\\rho^2}$\n",
    "\n",
    "Therefore, $\\phi_1=\\epsilon_1$, $\\phi_2=\\rho\\epsilon_1+\\sqrt{1-\\rho^2}\\epsilon_2$\n",
    "\n",
    "Weighted sums of Normally distributed numbers are themselves Normally distributed!\n",
    "\n",
    "If $X_i$ ~ $N(\\mu_i, \\sigma_i^2) for i=1, ..., n$   then\n",
    "\n",
    "$\\sum_{i=1}^{n}w_iX_i$~$N(\\sum_{i=1}^{n}w_i\\mu_i,\\sum_{i=1}^{n}w_i^2\\sigma_1^2)$\n",
    "\n",
    "Ito IV:\n",
    "\n",
    "Suppose $V=V(t,S)$, what happens when $t \\rightarrow t+dt$, $s \\rightarrow  S+dS$?\n",
    "\n",
    "Use 2D TSE:\n",
    "\n",
    "$V(t+dt, S+dS) = V(t,S)$\n",
    "$+\\frac{\\partial V}{\\partial t}dt$\n",
    "$+\\frac{\\partial V}{\\partial S}dS$\n",
    "$+\\frac{1}{2}\\frac{\\partial^2V}{\\partial S^2}dS^2$\n",
    "\n",
    "\n",
    "$dV = \\frac{\\partial V}{\\partial t}dt$\n",
    "$+\\frac{\\partial V}{\\partial S}(\\mu Sdt+\\sigma SdX)$\n",
    "$+\\frac{1}{2}\\frac{\\partial^2V}{\\partial S^2}(\\sigma^2S^2dt)$\n",
    "\n",
    "$dV = (\\frac{\\partial V}{\\partial t}+\\mu S\\frac{\\partial V}{\\partial S}+\\frac{1}{2}\\sigma^2S^2\\frac{\\partial^2V}{\\partial S^2})dt$\n",
    "$+\\sigma S\\frac{\\partial V}{\\partial S}dX$\n",
    "\n"
   ]
  },
  {
   "cell_type": "markdown",
   "id": "ready-edwards",
   "metadata": {},
   "source": [
    "### Ito V: "
   ]
  },
  {
   "cell_type": "markdown",
   "id": "incredible-relevance",
   "metadata": {},
   "source": [
    "2 stocks, $\\frac{dS_i}{S_i}=\\mu_idt+\\sigma dX_i$\n",
    "$E(dX_1dX_2)=\\rho dt$\n",
    "\n",
    "Write dV where $V=V(t,S_1,S_2)$ see M1L6."
   ]
  },
  {
   "cell_type": "markdown",
   "id": "tamil-destruction",
   "metadata": {},
   "source": [
    "### Ito's Integral (Stochastic Integration formula):"
   ]
  },
  {
   "cell_type": "markdown",
   "id": "hearing-extraction",
   "metadata": {},
   "source": [
    "Properties of Ito Integrals:\n",
    "\n",
    "1. Linearity:\n",
    "\n",
    "$\\int_{0}^{T}(\\alpha f(X_t)+\\beta g(X_t))dX_t=\\alpha\\int_{0}^{T}f(X_t)dX_t+\\beta\\int_{0}^{T}g(X_t)dX_t$\n",
    "\n",
    "2. Ito Isometry:\n",
    "\n",
    "$E[(\\int_{0}^{T}f_tdX_t)^2]=E[\\int_{0}^{T}f^2_tdt]$\n",
    "\n",
    "This is used in calculating the variance of a stochastic process.\n"
   ]
  },
  {
   "cell_type": "markdown",
   "id": "fluid-shoot",
   "metadata": {},
   "source": [
    "#### Integration for Ito II: $\\int_{0}^{t} \\frac{\\partial F}{\\partial X}dx= F(t,X_t)-F(0,X_0) - \\int_{0}^{t}(\\frac{\\partial F}{\\partial t}+\\frac{1}{2}\\frac{\\partial^2F}{\\partial X^2})dt$\n"
   ]
  },
  {
   "cell_type": "markdown",
   "id": "hundred-reasoning",
   "metadata": {},
   "source": [
    "Start with Ito II: \n",
    "\n",
    "$\\frac{\\partial F}{\\partial X}dX = dF - (\\frac{\\partial F}{\\partial t}+\\frac{1}{2}\\frac{\\partial ^2 F}{\\partial X^2})dt $\n",
    "\n",
    "Integrate both sides over [0, t]:\n",
    "\n",
    "$\\int_{0}^{t} \\frac{\\partial F}{\\partial X}dx$\n",
    "$= \\int_{0}^{t} dF - \\int_{0}^{t}(\\frac{\\partial F}{\\partial t}+\\frac{1}{2}\\frac{\\partial^2F}{\\partial X^2})dt$\n",
    "$= F(t,X_t)-F(0,X_0) - \\int_{0}^{t}(\\frac{\\partial F}{\\partial t}+\\frac{1}{2}\\frac{\\partial^2F}{\\partial X^2})dt$\n",
    "\n",
    "$\\int_{0}^{t} \\frac{\\partial F}{\\partial X}dx$ is called Ito Integral."
   ]
  },
  {
   "cell_type": "markdown",
   "id": "utility-toddler",
   "metadata": {},
   "source": [
    "#### Integration for Ito I: $\\int_{0}^{t} \\frac{\\partial F}{\\partial X}dx= F(X_t)-F(X_0) - \\frac{1}{2}\\int_{0}^{t}\\frac{\\partial^2F}{\\partial X^2}dt$\n"
   ]
  },
  {
   "cell_type": "markdown",
   "id": "appreciated-capital",
   "metadata": {},
   "source": [
    "### Ito Product Rule"
   ]
  },
  {
   "cell_type": "markdown",
   "id": "blank-nebraska",
   "metadata": {},
   "source": [
    "Let $X_t = a(X_t,t)dt+b(t,X_t)dW^{(1)}_t$, and $Y_t=c(Y_t,t)dt+d(t,X_t)dW^{(2)}_t$ \n",
    "\n",
    "Solve $F=X_tY_t$\n",
    "\n",
    "Using T.S.E:\n",
    "\n",
    "$dF=\\frac{\\partial F}{\\partial X}dX+\\frac{\\partial F}{\\partial Y}dY+\\frac{1}{2}\\frac{\\partial^2F}{\\partial X^2}dX^2$\n",
    "$+\\frac{1}{2}\\frac{\\partial^2F}{\\partial Y^2}dY^2 +\\frac{\\partial F}{\\partial X\\partial Y}dXdY$\n",
    "\n",
    "$= YdX + XdY + 0 + 0 + dXdY$\n",
    "\n",
    "So:\n",
    "\n",
    "$d(XY) = YdX + XdY + dXdY$  --- (Ito rule for products). $dXdY$ cannot be ignored because it is $O(dt)$.\n",
    "\n",
    "Note, this is different from the everyday differentiation: $(fg)'=f'g+fg'$"
   ]
  },
  {
   "cell_type": "markdown",
   "id": "accepting-square",
   "metadata": {},
   "source": [
    "## Stimulating random walks"
   ]
  },
  {
   "cell_type": "markdown",
   "id": "historical-theme",
   "metadata": {},
   "source": [
    "### Stimulating the lognormal random walk"
   ]
  },
  {
   "cell_type": "markdown",
   "id": "wireless-formula",
   "metadata": {},
   "source": [
    "The lognormal random walk model for assets can be written in continuous time as:\n",
    "\n",
    "dS = μS dt+σS dX\n",
    "\n",
    "In discrete time we write it as:\n",
    "\n",
    "$\\delta S=\\mu S\\delta t +\\sigma\\phi\\sqrt{\\delta t}$\n",
    "\n",
    "$S_{i+1} − S_i = S_i(\\mu S\\delta t +\\sigma\\phi\\sqrt{\\delta t})$\n",
    "\n",
    "$i$ means $t_i$\n",
    "\n",
    "$S_{i+1} =S_i(1+\\mu S\\delta t +\\sigma\\phi\\sqrt{\\delta t})$\n",
    "\n",
    "$S_{i+1}$ is the next timestep. \n",
    "\n",
    "We can easily simulate the model using a spreadsheet with the above formula. The method is called the Euler Maruyama method. It's accuracy is $O(\\sqrt{\\delta t})$\n",
    "\n",
    "\n",
    "For a generic stochastic process $dy = A(y,t)dt +B(y,t)dX$\n",
    "\n",
    "We get $y_{n+1} = y_n + A(y_n,n)\\delta t+B(y_n,n)\\Delta X_n$\n",
    "\n",
    "This will be proved in Module 3. "
   ]
  },
  {
   "cell_type": "markdown",
   "id": "determined-rover",
   "metadata": {},
   "source": [
    "### Stimulating other random walks"
   ]
  },
  {
   "cell_type": "markdown",
   "id": "settled-seller",
   "metadata": {},
   "source": [
    "This method is not restricted to the lognormal random walk.\n",
    "\n",
    "The following is a stochastic differential equation model for an interest rate, that goes by the name of an Ornstein-Uhlenbeck\n",
    "process (an example of a mean-reverting random walk), or when used in an interest rate context the Vasicek model:\n",
    "\n",
    "$dr = (\\eta -\\gamma r)dt+\\sigma dX$\n",
    "\n",
    "In discrete time we can approximate this by:\n",
    "\n",
    "$r_{i+1} = r_i + (\\eta -\\gamma r)dt+\\sigma\\phi\\sqrt{\\delta t}$\n",
    "\n"
   ]
  },
  {
   "cell_type": "markdown",
   "id": "bacterial-panic",
   "metadata": {},
   "source": [
    "# Martingales"
   ]
  },
  {
   "cell_type": "markdown",
   "id": "generous-swaziland",
   "metadata": {},
   "source": [
    "Here we focus on \"Continuous time\", not discrete time.\n",
    "\n",
    "Martingale is a driftless stochastic procss (or constant mean process), this is the nice thing about Martingales because it enables us to focus on the diffusion part. \n",
    "\n",
    "If something is Martingale, then the expected value is going to be 0. \n",
    "\n",
    "\n",
    "Three Encounters with Martingale:\n",
    "1. Martingales as a class of stochastic process\n",
    "2. Exponential martingales (module 3): Can be used to price derivatives\n",
    "3. Equivalent martingale measures (module 3):\n",
    "\n",
    "    Binomial model: from real world measure and move to risk-neutral pricing, in this case the underlying stock price doesn't really matter. \n",
    "\n",
    "    That is: for $\\frac{dS_i}{S_i}=\\mu_idt+\\delta_idW_i$, the $\\mu_i$ is gong to diminish and replaced with a constant growth rate, across all stock prices."
   ]
  },
  {
   "cell_type": "markdown",
   "id": "expanded-manufacturer",
   "metadata": {},
   "source": [
    "## Conditional Expectations"
   ]
  },
  {
   "cell_type": "markdown",
   "id": "julian-newman",
   "metadata": {
    "heading_collapsed": true
   },
   "source": [
    "### Components"
   ]
  },
  {
   "cell_type": "markdown",
   "id": "extended-carpet",
   "metadata": {
    "hidden": true
   },
   "source": [
    "Triple (or 3-tuple): ($\\Omega, F, P$) are always given:\n",
    "\n",
    "$\\Omega$: sample space (i.e. the set of all possible outcomes)\n",
    "\n",
    "$F_t$: filtration (i.e. a record of information). We will record more and more information based on the outcome that follows us. It can also be called $\\sigma$ field, or $\\sigma$ algebra. For example, we talked about conditional expectation $E[S_6|S_5]$, we can record $S_5$ so we call $S_5$ and the information earlier filtration.Therefore, we can use that information to predict where we will be in the future. We don't need to know all the info in filtration, just $S_5$ is enough. Filtration contains all information up until time $t_5$. $F_0$ is the empty set.\n",
    "\n",
    "$P$: probability measure, which is a generalized CDF for assigning probabilities to outcomes. For example, $P(\\omega_1)$, $P(\\omega_2)$. And Random variables are $X(\\omega_1)$, $X(\\omega_2)$.. In this case, we are looking at the probability of an interval, $x \\rightarrow x+dx$, so we need theory of integration, based on measure theory."
   ]
  },
  {
   "cell_type": "markdown",
   "id": "fixed-distributor",
   "metadata": {
    "heading_collapsed": true
   },
   "source": [
    "### Adapted (Measurable) Process"
   ]
  },
  {
   "cell_type": "markdown",
   "id": "ongoing-possibility",
   "metadata": {
    "hidden": true
   },
   "source": [
    "* It's adapted to a filtration. \n",
    "\n",
    "* A stochastic process $S_t$ is said to be adapted to the Filtration $F_t$ (or measurable with respect to $F_t$ , or $F_t$ -adapted) if the value of S_t at time t is known given the information set $F_t$.\n",
    "* We are interested in calculating $E_t[S_T|F_t]$ (We are interested in calculating the expected value of $S_T$ given $F_t$)\n",
    "* Given that we don't need to know all of $F_t$, sometimes we write the above as $E_t[S_T|S_t]$\n",
    "* We can also write it as $Y=E[X|F] = E_t(X_{t+1}|F_t)$"
   ]
  },
  {
   "cell_type": "markdown",
   "id": "practical-drunk",
   "metadata": {
    "heading_collapsed": true
   },
   "source": [
    "### Properties of Conditional Expectations"
   ]
  },
  {
   "cell_type": "markdown",
   "id": "usual-accountability",
   "metadata": {
    "hidden": true
   },
   "source": [
    "If $X, Y$ are intergrable random variables and $\\alpha, \\beta$ are constants then:\n",
    "1. Linearity: this is using the linear property of an integral\n",
    "$E[\\alpha X+\\beta Y|F] = \\alpha E[X|F] + \\beta E[Y|F]$\n",
    "\n",
    "* Here, integrable means the expected value is bounded, i.e. $E[X]<\\infty$, where $E[h(x)] = \\int_{-\\infty}^{\\infty}h(x)p(x)dx$\n",
    "\n",
    "2. Tower Property (i.e. iterated expectations)\n",
    "if $F \\subset G$\n",
    "\n",
    "* $E[E[X|G]|F]=E[X|F]$\n",
    "* the smallest filtration always wins\n",
    "\n",
    "3. A special case of Tower property:\n",
    "* Because the smallest filtration wins, no information wins\n",
    "* No information = unconditional expectation\n",
    "* i.e. $E[E[X|F]]=E[X]$\n",
    "\n",
    "4. Taking out what is known:\n",
    "if X is F-measurable, then the value of X is known once we know F. Therefore $E_t[X_t|F_t]=X$\n",
    "\n",
    "\n",
    "5. Taking out what is know (2):\n",
    "* if $X$ is $F$-measurable but not $Y$, then $E[XY|F]=XE[Y|F]$.\n",
    "* for example, if you are trying to figure out Apple price, but somebody sneaked in Google price, which is useless for your analysis.\n",
    "* We don't know $Y$. $Y$ is a random variable.\n",
    "* X behaves like a scalar\n",
    "\n",
    "6. Independence: \n",
    "* if $X$ is independent from $F$, then knowing $F$ is useless to predict the value of $X$.\n",
    "* i.e. $E[X|F] = E[X]$\n",
    "\n",
    "7. Positivity:\n",
    "* if $X>=0$, then $E[X|F]>=0$\n",
    "\n",
    "8. Jensen's Inequality:\n",
    "let $f$ be a convex function (e.g. $|X|$, $X^2$, $e^x$), then $f(E[X|F])<=E[f(X)|F]$"
   ]
  },
  {
   "cell_type": "markdown",
   "id": "cross-tactics",
   "metadata": {
    "heading_collapsed": true
   },
   "source": [
    "## Discrete Time Martingales"
   ]
  },
  {
   "cell_type": "markdown",
   "id": "hybrid-greene",
   "metadata": {
    "hidden": true
   },
   "source": [
    "We will start with discrete time and later we can focus on continuous time.\n",
    "\n",
    "A discrte time stochastic process {$M_t:t=0,...,T$} such that $M_t$ is $F_t$-measurable for $T=${$0,...,T$} is a martingale if $E[M_t] < \\infty$ (i.e. integrability) and $E_t[M_{t+1}|F_t]=M_t$ (i.e. a Martingale is a driftless process), or can also be written as $E_t[M_{t+1}|M_t]=M_t$\n",
    "\n",
    "\n",
    "\n",
    "Key takeaway: \n",
    "* We go from 0 to time t, and at time t, we decided to calculate the value for time t+1.\n",
    "* the mean doesn't change, i.e. $E[M_{t+1}] = E[M_t]$:\n",
    "    * $E_t[M_{t+1}|F_t]=M_t \\rightarrow E[E_t[M_{t+1}|F_t]]=E[M_t]$, due to Tower Property, the equation can be reduced to $E[M_{t+1}]=E[M_t]$"
   ]
  },
  {
   "cell_type": "markdown",
   "id": "handy-stock",
   "metadata": {
    "heading_collapsed": true
   },
   "source": [
    "## Continuous Time Martingales"
   ]
  },
  {
   "cell_type": "markdown",
   "id": "little-tucson",
   "metadata": {
    "hidden": true
   },
   "source": [
    "A continuous time stochastic process {$M_t:t \\epsilon R^+$} such that $M_t$ is $F_t$-measurable for $t \\epsilon R^+$ is a martingale if $E[M_t] < \\infty$ (i.e. integrability) and $E_s[M_t|F_s]=M_s$ (i.e. a Martingale is a driftless process), where $0<=s<=t$, or can also be written as $E_s[M_t|M_s]=M_s$. $M_s$ is our starting point (now, where as t is future). We have information up to time s.\n",
    "\n",
    "**Proving that a Continuous Time Stochastic Process is a Martingale**\n",
    "Consider a stochastic process $Y(t)$ with $dY(t)=f(Y_t,t)dt + g(Y_t,t)dX(t)$, where $Y(0)=Y_0$\n",
    "\n",
    "If Y(t) is a martingale if and only if it satisfies the martingale condition $E[Y_t|F_s]=Y_s, 0<=s<=t.\n",
    "\n",
    "Proof:\n",
    "\n",
    "$dY(t)=f(Y_t,t)dt + g(Y_t,t)dX(t)$\n",
    "\n",
    "Integrating both sides: \n",
    "\n",
    "$Y(t) = Y(s) + \\int_{s}^{t}f(Y_u,u)du+\\int_{s}^{t}g(Y_u, u)dX(u)$\n",
    "\n",
    "Taking the expectation conditional on the filtration at time s, we get:\n",
    "\n",
    "$E[Y_t|F_s] = E[Y(s) + \\int_{s}^{t}f(Y_u,u)du+\\int_{s}^{t}g(Y_u, u)dX(u)|F_s]$\n",
    "\n",
    "$=Y(s) + E[\\int_{s}^{t}f(Y_u,u)du|F] + 0$  (the last item is 0 because an Ito integral is a martingale)\n",
    "\n",
    "So, $Y(t)$ is a martingale iff $E[\\int_{s}^{t}f(Y_u,u)du|F]=0$. This is why we say that martingales are \"driftless processes\".\n",
    "\n",
    "Consider a Brownian Motion with drift: $\\mu t+X_t$. Is this a martigale?\n",
    "\n",
    "Answer: no\n",
    "\n",
    "Solution:\n",
    "\n",
    "$E[\\mu t+X_t|F_t]=E[\\mu t+X_t-X_s+X_s|F_t]=E[X_t-X_s]+E[\\mu t+X_s|F_t]$\n",
    "\n",
    "The first item ~ $N(0,|t-s|)$  \n",
    "The second item $\\mu t+X_s \\neq \\mu s+X_s, so not a martingale \n"
   ]
  },
  {
   "cell_type": "markdown",
   "id": "atomic-plumbing",
   "metadata": {},
   "source": [
    "## Lévy's Martingale Characterisation"
   ]
  },
  {
   "cell_type": "markdown",
   "id": "legislative-merchandise",
   "metadata": {},
   "source": [
    "Let $X_t$, $t > 0$ be a stochastic process and let $F_t$ be the filtration generated by it. $X_t$ is a Brownian motion if the following conditions are satisfied:\n",
    "\n",
    "1. $X_0$ = 0\n",
    "2. the sample path $t \\rightarrow X_t$ are continuous\n",
    "3. $X_t$ is a martingale with respect to the filtration $F_t$\n",
    "4. Quadratic Variation property: $|X_t|^2 -t$ is a martingale with respect to the filtration $F_t$"
   ]
  },
  {
   "cell_type": "markdown",
   "id": "sudden-external",
   "metadata": {},
   "source": [
    "## Ito integrals and martingales"
   ]
  },
  {
   "cell_type": "markdown",
   "id": "pediatric-words",
   "metadata": {},
   "source": [
    "Ito integrals are martingales\n",
    "\n",
    "Consider the stochastic process $y(t) = X^2(t)$\n",
    "\n",
    "Ito I tells us: $dF = \\frac{1}{2}\\frac{d^2F}{dX^2}dt + \\frac{dF}{dX}dX$\n",
    "\n",
    "Therefore $dy = 2XdX + dt$\n",
    "\n",
    "Integral on both sides:\n",
    "\n",
    "$y = \\int_{0}^{T}2X(t)dX(t) + \\int_{0}^{T}dt$\n",
    "\n",
    "$X^2(T) = \\int_{0}^{T}2X(t)dX(t) + T$\n",
    "\n",
    "Because the quadratic variation property of Brownian motions implies $E[X^2(T)]=T$, $E[\\int_{0}^{T}2X(t)dX(t)] = 0$\n",
    "\n",
    "That is because, following Fubini's Theorem, \n",
    "$E[\\int_{0}^{T}f(x_t)dt]=\\int_{0}^{T}E[f{X_t}]dt $\n",
    "\n",
    "Therefore, the Ito integral $\\int_{0}^{T}2X(t)dX(t)$ is a martingale. In fact, all Ito integrals $\\int_{0}^{T} g(t,X_t)dX_t$ are Martingales. "
   ]
  },
  {
   "cell_type": "markdown",
   "id": "vocational-switch",
   "metadata": {},
   "source": [
    "### Martingale Representation Theorem"
   ]
  },
  {
   "cell_type": "markdown",
   "id": "strong-fraud",
   "metadata": {},
   "source": [
    "The converse also holds: we can represent any martingale as an Ito integral - \n",
    "i.e.:\n",
    "\n",
    "If $M_t$ is a martingale, the there exists a function $g(t,X_t)$ satisfying the technical condition such that \n",
    "$M_T = M_0 + \\int_{0}^{T}g(t,X_t)dX_t$. We have to find that $g(t,X_t)$."
   ]
  },
  {
   "cell_type": "markdown",
   "id": "australian-apparatus",
   "metadata": {},
   "source": [
    "### Reimann integral"
   ]
  },
  {
   "cell_type": "markdown",
   "id": "overhead-impact",
   "metadata": {},
   "source": [
    "There are a nmber of ways to approximate $\\int_{0}^{T}f(t)dt$, and they will all be equal to each other as $N \\rightarrow \\infty$.\n",
    "\n",
    "1. left hand rectangle rule:\n",
    "\n",
    "$\\int_{0}^{T}f(t)dt=\\lim_{N\\rightarrow\\infty}\\sum_{i=0}^{N-1}f(t_i)(t_{i+1}-t_i)$\n",
    "\n",
    "\n",
    "\n",
    "2. right hand rectangle rule:\n",
    "\n",
    "$\\int_{0}^{T}f(t)dt=\\lim_{N\\rightarrow\\infty}\\sum_{i=0}^{N-1}f(t_{i+1})(t_{i+1}-t_i)$\n",
    "\n",
    "\n",
    "\n",
    "3. trapezium rule:\n",
    "\n",
    "$\\int_{0}^{T}f(t)dt=\\lim_{N\\rightarrow\\infty}\\sum_{i=0}^{N-1}\\frac{1}{2}(f(t_i)+f(t_{i+1}))(t_{i+1}-t_i)$\n",
    "\n",
    "\n",
    "4. midpoint rule:\n",
    "\n",
    "$\\int_{0}^{T}f(t)dt=\\lim_{N\\rightarrow\\infty}\\sum_{i=0}^{N-1}f(\\frac{1}{2}(t_i+t_{i+1}))(t_{i+1}-t_i)$\n",
    "\n",
    "\n",
    "Now, consider the stochastic integral of the form:\n",
    "\n",
    "$\\int_{0}^{T}f(t,X)dX=\\int_{0}^{T}f(t,X(t))dX(t)$, where $X(t)$ is a Brownian motion.\n",
    "\n",
    "\n",
    "Following Reimann integral, we can approximate the above integral as:\n",
    "\n",
    "(1) $\\lim_{N\\rightarrow\\infty}\\sum_{i=0}^{N-1}f(t_i,X_i)(X_{i+1}-X_i)$ --- (left hand rectangle rule)\n",
    "\n",
    "or (2) $\\lim_{N\\rightarrow\\infty}\\sum_{i=0}^{N-1}f(t_{i+1},X_{i+1})(X_{i+1}-X_i)$  --- (right hand rectangle rule)\n",
    "\n",
    "or (3) $\\lim_{N\\rightarrow\\infty}\\sum_{i=0}^{N-1}f(t_{i+\\frac{1}{2}},X_{i+\\frac{1}{2}})(X_{i+1}-X_i)$  --- (midpoint rule)\n",
    "\n",
    "However, in he case of a stochastic variable $dX(t)$, (1) $\\neq$ (2) $\\neq$ (3)\n",
    "\n",
    "(1) = $\\int_{0}^{T}f(t,W_t)dW_t$, which results in Ito Integral. It is non-anticipatory because: given that we are at time $t_i$, we know $X_i=X(t_i)$, and therefore we know $f(t_i,X_i)$. The only uncertainly is $X_{i+1}$, but as $N \\rightarrow \\infty$, $X_{i+1}-X_i = dX \\rightarrow 0$.\n",
    "\n",
    "(2) is anticipatory, given that at time $t_i$ we know $X_i$ but are uncertain about the future value of $X_{i+1}$: Thus we are uncertain about both the value of $f(t_{i+1}, X_{i+1})$ and the value of $(X_{i+1} - X_i)$\n",
    "\n",
    "Example:\n",
    "\n",
    "From Ito I: we know $3\\int_{0}^{T}X^2dX=X(T)^3-X(0)^3-3\\int_{0}{T}X(t)dt$\n",
    "\n",
    "This can also be derived from Reimann Integral:\n",
    "\n",
    "$3\\int_{0}^{T}X^2dX= \\lim_{N \\rightarrow \\infty}3\\sum_{i=0}^{N-1}X^2_i(X_{i+1}-X_i)$\n",
    "\n",
    "Using $3b^2(a-b)=a^3-b^3-3b(a-b)^2-(a-b)^3$, we can assign $a = X_{i+1}, b =X_i$, hence:\n",
    "\n",
    "$\\lim_{N \\rightarrow \\infty}\\sum_{i=0}^{N-1}3X^2_i(X_{i+1}-X_i)$\n",
    "$=\\sum_{i=0}^{N-1}X^3_{i+1} - \\sum_{i=0}^{N=1}X^3_i - \\sum_{i=0}^{N=1}3X_i(X_{i+1}-X_i)^2 - \\sum_{i=0}^{N-1}(X_{i+1}-X_i)^3$\n",
    "\n",
    "$=X^3_N - X^3_0 - \\int_{0}^{T}3X(t)dt -O(dt^{3/2}) = X(T)^3 - X(0)^3 - \\int_{0}^{T}3X(t)dt$"
   ]
  },
  {
   "cell_type": "markdown",
   "id": "educated-proportion",
   "metadata": {},
   "source": [
    "## Exponential Martingales"
   ]
  },
  {
   "cell_type": "markdown",
   "id": "therapeutic-court",
   "metadata": {},
   "source": [
    "Consider the stochastic process Y (t) satisfying the SDE $dY (t) = f(t)dt + g(t)dX(t)$, $Y(0) = Y_0$ (initial condition), where $f(t)$ and $g(t)$ are two time-dependent functions and $X(t)$ is a standard Brownian motion. How do we choose f(t) so that $Z(t) = e^{Y(t)}$ is a martingale (i.e. driftless process)?\n",
    "\n",
    "$dZ$ is the SDE for Z\n",
    "\n",
    "$\\frac{dZ}{dY}=e^Y = \\frac{d^2Z}{dY^2}$\n",
    "\n",
    "\n",
    "$dY^2 = f^2dt^2+g^2dX^2 + 2fgdtdX$\n",
    "$= O(dt^2) + g^2dt + O(dt^{3/2}) = g^2dt$\n",
    "\n",
    "\n",
    "$dZ = de^Y = \\frac{dZ}{dY}dY + \\frac{1}{2}\\frac{d^2Z}{dY^2}dY^2$\n",
    "\n",
    "$=\\frac{dZ}{dY}(fdt + gdX) + \\frac{1}{2}\\frac{d^2Z}{dY^2}g^2dt$\n",
    "\n",
    "$=e^Y(f+\\frac{1}{2}g^2)dt + e^YgdX$\n",
    "\n",
    "Z is a martingale if and only if it is a driftless process. Therefore $f+\\frac{1}{2}g^2 = 0 \\rightarrow f=-\\frac{1}{2}g^2$\n",
    "\n",
    "Now we have $dZ = gZdX$ This exponential martingale forms the basis of option pricing \n",
    "\n",
    "so, $dY = fdt + gdX = -\\frac{1}{2}g^2dt + gdX$\n",
    "\n",
    "$Y(T) = Y_0 -\\frac{1}{2}\\int_{0}^{T}g^2dt+\\int_{0}^{T}gdX$\n",
    "\n",
    "\n",
    "$Z = e^Y = exp(Y_0 -\\frac{1}{2}\\int_{0}^{T}g^2dt+\\int_{0}^{T}gdX)$ \n",
    "\n",
    "$ = Z_0exp(-\\frac{1}{2}\\int_{0}^{T}g^2dt+\\int_{0}^{T}gdX)$"
   ]
  },
  {
   "cell_type": "markdown",
   "id": "improved-interface",
   "metadata": {},
   "source": [
    "## Equivalent Measure"
   ]
  },
  {
   "cell_type": "markdown",
   "id": "tender-basin",
   "metadata": {},
   "source": [
    "Changing Probability Measure: Change from real world probability P and (1-P) to risk-neutral world probability q and (1-q).\n",
    "\n",
    "If two measures P and Q share the same sample space and if P(A) = 0 implies Q(A) = 0 for all subset A, we say that Q is absolutely continuous with respect to P and denote this by Q << P.\n",
    "\n",
    "* all impossible events under P remain impossible under Q\n",
    "* The probability mass of the possible events will be distributed differently under P and Q. That is, the probability of an event in P will have a different value in Q.\n",
    "\n",
    "If Q << P and P << Q then the two measures are said to be equivalent, denoted by P ~ Q.\n"
   ]
  }
 ],
 "metadata": {
  "hide_input": false,
  "kernelspec": {
   "display_name": "Python 3",
   "language": "python",
   "name": "python3"
  },
  "language_info": {
   "codemirror_mode": {
    "name": "ipython",
    "version": 3
   },
   "file_extension": ".py",
   "mimetype": "text/x-python",
   "name": "python",
   "nbconvert_exporter": "python",
   "pygments_lexer": "ipython3",
   "version": "3.8.5"
  },
  "toc": {
   "base_numbering": 1,
   "nav_menu": {},
   "number_sections": true,
   "sideBar": true,
   "skip_h1_title": false,
   "title_cell": "Table of Contents",
   "title_sidebar": "Contents",
   "toc_cell": false,
   "toc_position": {
    "height": "calc(100% - 180px)",
    "left": "10px",
    "top": "150px",
    "width": "419.901px"
   },
   "toc_section_display": true,
   "toc_window_display": true
  }
 },
 "nbformat": 4,
 "nbformat_minor": 5
}
